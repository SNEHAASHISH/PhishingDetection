{
  "nbformat": 4,
  "nbformat_minor": 0,
  "metadata": {
    "colab": {
      "provenance": [],
      "gpuType": "T4"
    },
    "kernelspec": {
      "name": "python3",
      "display_name": "Python 3"
    },
    "language_info": {
      "name": "python"
    },
    "gpuClass": "standard"
  },
  "cells": [
    {
      "cell_type": "markdown",
      "source": [
        "#**Model Training using Different ML algorithms**"
      ],
      "metadata": {
        "id": "KTGhxsB6Mech"
      }
    },
    {
      "cell_type": "markdown",
      "source": [
        "##**Loading the dataset from file called final_dataset.csv**"
      ],
      "metadata": {
        "id": "cPThL8u4MveJ"
      }
    },
    {
      "cell_type": "code",
      "source": [
        "!nvidia-smi"
      ],
      "metadata": {
        "id": "ryLQaN3IyK6G"
      },
      "execution_count": null,
      "outputs": []
    },
    {
      "cell_type": "code",
      "source": [
        "#Importing  Essential Python Modules required during the training\n",
        "import numpy as np  \n",
        "import pandas as pd \n",
        "import matplotlib.pyplot as plt"
      ],
      "metadata": {
        "id": "etUQRA7NMrFH"
      },
      "execution_count": null,
      "outputs": []
    },
    {
      "cell_type": "markdown",
      "source": [
        "##**Load the dataset whose training need to be done**"
      ],
      "metadata": {
        "id": "lvYnXNFsJTrR"
      }
    },
    {
      "cell_type": "code",
      "source": [
        "dataset=pd.read_csv(\"/content/sample_data/gen_phish_dataset.csv\")\n",
        "feature_names=dataset.columns"
      ],
      "metadata": {
        "id": "e89_Tp0BNztb"
      },
      "execution_count": null,
      "outputs": []
    },
    {
      "cell_type": "code",
      "source": [
        "dataset.head()"
      ],
      "metadata": {
        "colab": {
          "base_uri": "https://localhost:8080/",
          "height": 300
        },
        "id": "f9rlcDSbOAz7",
        "outputId": "9d0fae0f-76d8-4342-bcd0-0b81da9f5d53"
      },
      "execution_count": null,
      "outputs": [
        {
          "output_type": "execute_result",
          "data": {
            "text/plain": [
              "                                              Domain  Have_HTTPS  Have_At  \\\n",
              "0  http://bt.attadbehind.work/cl/0_pt/17/120478/8...           1        0   \n",
              "1                        https://mnuc2a.webwave.dev/           0        0   \n",
              "2                         http://mnuc2a.webwave.dev/           1        0   \n",
              "3      https://winter-hat-9e79.lj1pache.workers.dev/           0        0   \n",
              "4        https://sp960402.sitebeat.crazydomains.com/           0        0   \n",
              "\n",
              "   URL_Length  URL_Depth  Redirection  http_https_Domain  Prefix_Suffix  \\\n",
              "0          53          7            0                  0              0   \n",
              "1          27          0            0                  0              0   \n",
              "2          26          0            0                  0              0   \n",
              "3          45          0            0                  0              1   \n",
              "4          43          0            0                  0              0   \n",
              "\n",
              "   SubDomainCount  DNS_Record  ...  FormMail  NonStandardPort  SubPagesCount  \\\n",
              "0               0           0  ...         1                0              0   \n",
              "1               0           0  ...         0                0              0   \n",
              "2               0           0  ...         0                0              0   \n",
              "3               0           0  ...         0                0              0   \n",
              "4               0           0  ...         0                0              0   \n",
              "\n",
              "   IndexPagesCount  MLSTagsRatio  Anchor_URL  RequestUrl  Empty_Link  \\\n",
              "0                0           1.0         1.0         1.0         1.0   \n",
              "1                0           0.0         0.0         0.0         0.0   \n",
              "2                0           0.0         0.0         0.0         0.0   \n",
              "3                0           1.0         1.0         0.0         0.0   \n",
              "4                0           1.0         1.0         1.0         0.0   \n",
              "\n",
              "   visibilityMode  Label  \n",
              "0               1      0  \n",
              "1               0      0  \n",
              "2               0      0  \n",
              "3               0      0  \n",
              "4               0      0  \n",
              "\n",
              "[5 rows x 34 columns]"
            ],
            "text/html": [
              "\n",
              "  <div id=\"df-e2ffd3ff-2711-4060-8f24-a9baec7f6cb4\">\n",
              "    <div class=\"colab-df-container\">\n",
              "      <div>\n",
              "<style scoped>\n",
              "    .dataframe tbody tr th:only-of-type {\n",
              "        vertical-align: middle;\n",
              "    }\n",
              "\n",
              "    .dataframe tbody tr th {\n",
              "        vertical-align: top;\n",
              "    }\n",
              "\n",
              "    .dataframe thead th {\n",
              "        text-align: right;\n",
              "    }\n",
              "</style>\n",
              "<table border=\"1\" class=\"dataframe\">\n",
              "  <thead>\n",
              "    <tr style=\"text-align: right;\">\n",
              "      <th></th>\n",
              "      <th>Domain</th>\n",
              "      <th>Have_HTTPS</th>\n",
              "      <th>Have_At</th>\n",
              "      <th>URL_Length</th>\n",
              "      <th>URL_Depth</th>\n",
              "      <th>Redirection</th>\n",
              "      <th>http_https_Domain</th>\n",
              "      <th>Prefix_Suffix</th>\n",
              "      <th>SubDomainCount</th>\n",
              "      <th>DNS_Record</th>\n",
              "      <th>...</th>\n",
              "      <th>FormMail</th>\n",
              "      <th>NonStandardPort</th>\n",
              "      <th>SubPagesCount</th>\n",
              "      <th>IndexPagesCount</th>\n",
              "      <th>MLSTagsRatio</th>\n",
              "      <th>Anchor_URL</th>\n",
              "      <th>RequestUrl</th>\n",
              "      <th>Empty_Link</th>\n",
              "      <th>visibilityMode</th>\n",
              "      <th>Label</th>\n",
              "    </tr>\n",
              "  </thead>\n",
              "  <tbody>\n",
              "    <tr>\n",
              "      <th>0</th>\n",
              "      <td>http://bt.attadbehind.work/cl/0_pt/17/120478/8...</td>\n",
              "      <td>1</td>\n",
              "      <td>0</td>\n",
              "      <td>53</td>\n",
              "      <td>7</td>\n",
              "      <td>0</td>\n",
              "      <td>0</td>\n",
              "      <td>0</td>\n",
              "      <td>0</td>\n",
              "      <td>0</td>\n",
              "      <td>...</td>\n",
              "      <td>1</td>\n",
              "      <td>0</td>\n",
              "      <td>0</td>\n",
              "      <td>0</td>\n",
              "      <td>1.0</td>\n",
              "      <td>1.0</td>\n",
              "      <td>1.0</td>\n",
              "      <td>1.0</td>\n",
              "      <td>1</td>\n",
              "      <td>0</td>\n",
              "    </tr>\n",
              "    <tr>\n",
              "      <th>1</th>\n",
              "      <td>https://mnuc2a.webwave.dev/</td>\n",
              "      <td>0</td>\n",
              "      <td>0</td>\n",
              "      <td>27</td>\n",
              "      <td>0</td>\n",
              "      <td>0</td>\n",
              "      <td>0</td>\n",
              "      <td>0</td>\n",
              "      <td>0</td>\n",
              "      <td>0</td>\n",
              "      <td>...</td>\n",
              "      <td>0</td>\n",
              "      <td>0</td>\n",
              "      <td>0</td>\n",
              "      <td>0</td>\n",
              "      <td>0.0</td>\n",
              "      <td>0.0</td>\n",
              "      <td>0.0</td>\n",
              "      <td>0.0</td>\n",
              "      <td>0</td>\n",
              "      <td>0</td>\n",
              "    </tr>\n",
              "    <tr>\n",
              "      <th>2</th>\n",
              "      <td>http://mnuc2a.webwave.dev/</td>\n",
              "      <td>1</td>\n",
              "      <td>0</td>\n",
              "      <td>26</td>\n",
              "      <td>0</td>\n",
              "      <td>0</td>\n",
              "      <td>0</td>\n",
              "      <td>0</td>\n",
              "      <td>0</td>\n",
              "      <td>0</td>\n",
              "      <td>...</td>\n",
              "      <td>0</td>\n",
              "      <td>0</td>\n",
              "      <td>0</td>\n",
              "      <td>0</td>\n",
              "      <td>0.0</td>\n",
              "      <td>0.0</td>\n",
              "      <td>0.0</td>\n",
              "      <td>0.0</td>\n",
              "      <td>0</td>\n",
              "      <td>0</td>\n",
              "    </tr>\n",
              "    <tr>\n",
              "      <th>3</th>\n",
              "      <td>https://winter-hat-9e79.lj1pache.workers.dev/</td>\n",
              "      <td>0</td>\n",
              "      <td>0</td>\n",
              "      <td>45</td>\n",
              "      <td>0</td>\n",
              "      <td>0</td>\n",
              "      <td>0</td>\n",
              "      <td>1</td>\n",
              "      <td>0</td>\n",
              "      <td>0</td>\n",
              "      <td>...</td>\n",
              "      <td>0</td>\n",
              "      <td>0</td>\n",
              "      <td>0</td>\n",
              "      <td>0</td>\n",
              "      <td>1.0</td>\n",
              "      <td>1.0</td>\n",
              "      <td>0.0</td>\n",
              "      <td>0.0</td>\n",
              "      <td>0</td>\n",
              "      <td>0</td>\n",
              "    </tr>\n",
              "    <tr>\n",
              "      <th>4</th>\n",
              "      <td>https://sp960402.sitebeat.crazydomains.com/</td>\n",
              "      <td>0</td>\n",
              "      <td>0</td>\n",
              "      <td>43</td>\n",
              "      <td>0</td>\n",
              "      <td>0</td>\n",
              "      <td>0</td>\n",
              "      <td>0</td>\n",
              "      <td>0</td>\n",
              "      <td>0</td>\n",
              "      <td>...</td>\n",
              "      <td>0</td>\n",
              "      <td>0</td>\n",
              "      <td>0</td>\n",
              "      <td>0</td>\n",
              "      <td>1.0</td>\n",
              "      <td>1.0</td>\n",
              "      <td>1.0</td>\n",
              "      <td>0.0</td>\n",
              "      <td>0</td>\n",
              "      <td>0</td>\n",
              "    </tr>\n",
              "  </tbody>\n",
              "</table>\n",
              "<p>5 rows × 34 columns</p>\n",
              "</div>\n",
              "      <button class=\"colab-df-convert\" onclick=\"convertToInteractive('df-e2ffd3ff-2711-4060-8f24-a9baec7f6cb4')\"\n",
              "              title=\"Convert this dataframe to an interactive table.\"\n",
              "              style=\"display:none;\">\n",
              "        \n",
              "  <svg xmlns=\"http://www.w3.org/2000/svg\" height=\"24px\"viewBox=\"0 0 24 24\"\n",
              "       width=\"24px\">\n",
              "    <path d=\"M0 0h24v24H0V0z\" fill=\"none\"/>\n",
              "    <path d=\"M18.56 5.44l.94 2.06.94-2.06 2.06-.94-2.06-.94-.94-2.06-.94 2.06-2.06.94zm-11 1L8.5 8.5l.94-2.06 2.06-.94-2.06-.94L8.5 2.5l-.94 2.06-2.06.94zm10 10l.94 2.06.94-2.06 2.06-.94-2.06-.94-.94-2.06-.94 2.06-2.06.94z\"/><path d=\"M17.41 7.96l-1.37-1.37c-.4-.4-.92-.59-1.43-.59-.52 0-1.04.2-1.43.59L10.3 9.45l-7.72 7.72c-.78.78-.78 2.05 0 2.83L4 21.41c.39.39.9.59 1.41.59.51 0 1.02-.2 1.41-.59l7.78-7.78 2.81-2.81c.8-.78.8-2.07 0-2.86zM5.41 20L4 18.59l7.72-7.72 1.47 1.35L5.41 20z\"/>\n",
              "  </svg>\n",
              "      </button>\n",
              "      \n",
              "  <style>\n",
              "    .colab-df-container {\n",
              "      display:flex;\n",
              "      flex-wrap:wrap;\n",
              "      gap: 12px;\n",
              "    }\n",
              "\n",
              "    .colab-df-convert {\n",
              "      background-color: #E8F0FE;\n",
              "      border: none;\n",
              "      border-radius: 50%;\n",
              "      cursor: pointer;\n",
              "      display: none;\n",
              "      fill: #1967D2;\n",
              "      height: 32px;\n",
              "      padding: 0 0 0 0;\n",
              "      width: 32px;\n",
              "    }\n",
              "\n",
              "    .colab-df-convert:hover {\n",
              "      background-color: #E2EBFA;\n",
              "      box-shadow: 0px 1px 2px rgba(60, 64, 67, 0.3), 0px 1px 3px 1px rgba(60, 64, 67, 0.15);\n",
              "      fill: #174EA6;\n",
              "    }\n",
              "\n",
              "    [theme=dark] .colab-df-convert {\n",
              "      background-color: #3B4455;\n",
              "      fill: #D2E3FC;\n",
              "    }\n",
              "\n",
              "    [theme=dark] .colab-df-convert:hover {\n",
              "      background-color: #434B5C;\n",
              "      box-shadow: 0px 1px 3px 1px rgba(0, 0, 0, 0.15);\n",
              "      filter: drop-shadow(0px 1px 2px rgba(0, 0, 0, 0.3));\n",
              "      fill: #FFFFFF;\n",
              "    }\n",
              "  </style>\n",
              "\n",
              "      <script>\n",
              "        const buttonEl =\n",
              "          document.querySelector('#df-e2ffd3ff-2711-4060-8f24-a9baec7f6cb4 button.colab-df-convert');\n",
              "        buttonEl.style.display =\n",
              "          google.colab.kernel.accessAllowed ? 'block' : 'none';\n",
              "\n",
              "        async function convertToInteractive(key) {\n",
              "          const element = document.querySelector('#df-e2ffd3ff-2711-4060-8f24-a9baec7f6cb4');\n",
              "          const dataTable =\n",
              "            await google.colab.kernel.invokeFunction('convertToInteractive',\n",
              "                                                     [key], {});\n",
              "          if (!dataTable) return;\n",
              "\n",
              "          const docLinkHtml = 'Like what you see? Visit the ' +\n",
              "            '<a target=\"_blank\" href=https://colab.research.google.com/notebooks/data_table.ipynb>data table notebook</a>'\n",
              "            + ' to learn more about interactive tables.';\n",
              "          element.innerHTML = '';\n",
              "          dataTable['output_type'] = 'display_data';\n",
              "          await google.colab.output.renderOutput(dataTable, element);\n",
              "          const docLink = document.createElement('div');\n",
              "          docLink.innerHTML = docLinkHtml;\n",
              "          element.appendChild(docLink);\n",
              "        }\n",
              "      </script>\n",
              "    </div>\n",
              "  </div>\n",
              "  "
            ]
          },
          "metadata": {},
          "execution_count": 5
        }
      ]
    },
    {
      "cell_type": "code",
      "source": [
        "pd.set_option(\"display.max_columns\",33)"
      ],
      "metadata": {
        "id": "3VvRvG6214Yy"
      },
      "execution_count": null,
      "outputs": []
    },
    {
      "cell_type": "code",
      "source": [
        "pd.set_option(\"display.max_columns\",33)"
      ],
      "metadata": {
        "id": "2qKijLEfzEX0"
      },
      "execution_count": null,
      "outputs": []
    },
    {
      "cell_type": "code",
      "source": [
        "dataset.info()"
      ],
      "metadata": {
        "colab": {
          "base_uri": "https://localhost:8080/"
        },
        "id": "962NJ23GON6-",
        "outputId": "f6785556-9434-4d47-e80e-6ac35faa0e4f"
      },
      "execution_count": null,
      "outputs": [
        {
          "output_type": "stream",
          "name": "stdout",
          "text": [
            "<class 'pandas.core.frame.DataFrame'>\n",
            "RangeIndex: 4934 entries, 0 to 4933\n",
            "Data columns (total 34 columns):\n",
            " #   Column                   Non-Null Count  Dtype  \n",
            "---  ------                   --------------  -----  \n",
            " 0   Domain                   4934 non-null   object \n",
            " 1   Have_HTTPS               4934 non-null   int64  \n",
            " 2   Have_At                  4934 non-null   int64  \n",
            " 3   URL_Length               4934 non-null   int64  \n",
            " 4   URL_Depth                4934 non-null   int64  \n",
            " 5   Redirection              4934 non-null   int64  \n",
            " 6   http_https_Domain        4934 non-null   int64  \n",
            " 7   Prefix_Suffix            4934 non-null   int64  \n",
            " 8   SubDomainCount           4934 non-null   int64  \n",
            " 9   DNS_Record               4934 non-null   int64  \n",
            " 10  AgeOfDomain              4934 non-null   int64  \n",
            " 11  Domain_End               4934 non-null   int64  \n",
            " 12  iFrame                   4934 non-null   int64  \n",
            " 13  Mouse_Over               4934 non-null   int64  \n",
            " 14  Right_Click              4934 non-null   int64  \n",
            " 15  Web_Forwards             4934 non-null   int64  \n",
            " 16  Google_Index             4934 non-null   int64  \n",
            " 17  Favicon                  4934 non-null   int64  \n",
            " 18  CopyRightSymbol          4934 non-null   int64  \n",
            " 19  CopyRightYear            4934 non-null   int64  \n",
            " 20  Domain_Around_CopyRight  4934 non-null   int64  \n",
            " 21  LinkRatio                4934 non-null   float64\n",
            " 22  SSL_Domain_Name          4934 non-null   int64  \n",
            " 23  Submit_Handler           4934 non-null   int64  \n",
            " 24  FormMail                 4934 non-null   int64  \n",
            " 25  NonStandardPort          4934 non-null   int64  \n",
            " 26  SubPagesCount            4934 non-null   int64  \n",
            " 27  IndexPagesCount          4934 non-null   int64  \n",
            " 28  MLSTagsRatio             4934 non-null   float64\n",
            " 29  Anchor_URL               4934 non-null   float64\n",
            " 30  RequestUrl               4934 non-null   float64\n",
            " 31  Empty_Link               4934 non-null   float64\n",
            " 32  visibilityMode           4934 non-null   int64  \n",
            " 33  Label                    4934 non-null   int64  \n",
            "dtypes: float64(5), int64(28), object(1)\n",
            "memory usage: 1.3+ MB\n"
          ]
        }
      ]
    },
    {
      "cell_type": "code",
      "source": [
        "dataset['Label'].value_counts()#,gen_legi['Label'].value_counts(),gen_phish['Label'].value_counts()"
      ],
      "metadata": {
        "colab": {
          "base_uri": "https://localhost:8080/"
        },
        "id": "3tzMuyefOCwm",
        "outputId": "49724f67-cfc1-4905-9897-bf902218132f"
      },
      "execution_count": null,
      "outputs": [
        {
          "output_type": "execute_result",
          "data": {
            "text/plain": [
              "0    2511\n",
              "1    2423\n",
              "Name: Label, dtype: int64"
            ]
          },
          "metadata": {},
          "execution_count": 10
        }
      ]
    },
    {
      "cell_type": "code",
      "source": [
        "pd.set_option(\"display.max_columns\",33)\n",
        "dataset.describe()"
      ],
      "metadata": {
        "colab": {
          "base_uri": "https://localhost:8080/",
          "height": 364
        },
        "id": "paDAmGgQZikP",
        "outputId": "892c6af8-2146-48d8-fbf2-d7e5665d32d0"
      },
      "execution_count": null,
      "outputs": [
        {
          "output_type": "execute_result",
          "data": {
            "text/plain": [
              "        Have_HTTPS      Have_At   URL_Length    URL_Depth  Redirection  \\\n",
              "count  4934.000000  4934.000000  4934.000000  4934.000000  4934.000000   \n",
              "mean      0.211188     0.019051    61.020673     0.598095     0.027767   \n",
              "std       0.408193     0.136720    74.349360     1.222469     0.164320   \n",
              "min       0.000000     0.000000    14.000000     0.000000     0.000000   \n",
              "25%       0.000000     0.000000    34.000000     0.000000     0.000000   \n",
              "50%       0.000000     0.000000    39.000000     0.000000     0.000000   \n",
              "75%       0.000000     0.000000    51.000000     1.000000     0.000000   \n",
              "max       1.000000     1.000000   822.000000    10.000000     1.000000   \n",
              "\n",
              "       http_https_Domain  Prefix_Suffix  SubDomainCount   DNS_Record  \\\n",
              "count        4934.000000    4934.000000     4934.000000  4934.000000   \n",
              "mean            0.000203       0.386299        0.021484     0.333401   \n",
              "std             0.014236       0.486950        0.145004     0.471476   \n",
              "min             0.000000       0.000000        0.000000     0.000000   \n",
              "25%             0.000000       0.000000        0.000000     0.000000   \n",
              "50%             0.000000       0.000000        0.000000     0.000000   \n",
              "75%             0.000000       1.000000        0.000000     1.000000   \n",
              "max             1.000000       1.000000        1.000000     1.000000   \n",
              "\n",
              "       AgeOfDomain   Domain_End       iFrame   Mouse_Over  Right_Click  \\\n",
              "count  4934.000000  4934.000000  4934.000000  4934.000000  4934.000000   \n",
              "mean      0.543981     0.643089     0.094447     0.065464     0.065667   \n",
              "std       0.498112     0.479137     0.292479     0.247368     0.247724   \n",
              "min       0.000000     0.000000     0.000000     0.000000     0.000000   \n",
              "25%       0.000000     0.000000     0.000000     0.000000     0.000000   \n",
              "50%       1.000000     1.000000     0.000000     0.000000     0.000000   \n",
              "75%       1.000000     1.000000     0.000000     0.000000     0.000000   \n",
              "max       1.000000     1.000000     1.000000     1.000000     1.000000   \n",
              "\n",
              "       Web_Forwards  Google_Index      Favicon  CopyRightSymbol  \\\n",
              "count   4934.000000   4934.000000  4934.000000      4934.000000   \n",
              "mean       0.073976      0.050263     0.375760         0.890555   \n",
              "std        0.261759      0.218510     0.484368         0.312228   \n",
              "min        0.000000      0.000000     0.000000         0.000000   \n",
              "25%        0.000000      0.000000     0.000000         1.000000   \n",
              "50%        0.000000      0.000000     0.000000         1.000000   \n",
              "75%        0.000000      0.000000     1.000000         1.000000   \n",
              "max        1.000000      1.000000     1.000000         1.000000   \n",
              "\n",
              "       CopyRightYear  Domain_Around_CopyRight    LinkRatio  SSL_Domain_Name  \\\n",
              "count    4934.000000              4934.000000  4934.000000      4934.000000   \n",
              "mean        0.990272                 0.998176     0.538988         0.907985   \n",
              "std         0.098162                 0.042675     0.494643         0.289076   \n",
              "min         0.000000                 0.000000     0.000000         0.000000   \n",
              "25%         1.000000                 1.000000     0.000000         1.000000   \n",
              "50%         1.000000                 1.000000     1.000000         1.000000   \n",
              "75%         1.000000                 1.000000     1.000000         1.000000   \n",
              "max         1.000000                 1.000000     1.000000         1.000000   \n",
              "\n",
              "       Submit_Handler     FormMail  NonStandardPort  SubPagesCount  \\\n",
              "count     4934.000000  4934.000000      4934.000000    4934.000000   \n",
              "mean         0.065464     0.065464         0.017430       1.196190   \n",
              "std          0.247368     0.247368         0.130881      13.052841   \n",
              "min          0.000000     0.000000         0.000000       0.000000   \n",
              "25%          0.000000     0.000000         0.000000       0.000000   \n",
              "50%          0.000000     0.000000         0.000000       0.000000   \n",
              "75%          0.000000     0.000000         0.000000       0.000000   \n",
              "max          1.000000     1.000000         1.000000     633.000000   \n",
              "\n",
              "       IndexPagesCount  MLSTagsRatio   Anchor_URL   RequestUrl   Empty_Link  \\\n",
              "count      4934.000000   4934.000000  4934.000000  4934.000000  4934.000000   \n",
              "mean          0.391366      0.877048     0.475417     0.333852     0.120328   \n",
              "std          18.923519      0.300235     0.471192     0.467095     0.309151   \n",
              "min           0.000000      0.000000     0.000000     0.000000     0.000000   \n",
              "25%           0.000000      1.000000     0.000000     0.000000     0.000000   \n",
              "50%           0.000000      1.000000     0.514706     0.000000     0.000000   \n",
              "75%           0.000000      1.000000     1.000000     1.000000     0.000000   \n",
              "max        1220.000000      1.000000     1.000000     1.000000     1.000000   \n",
              "\n",
              "       visibilityMode        Label  \n",
              "count     4934.000000  4934.000000  \n",
              "mean         0.074382     0.491082  \n",
              "std          0.262418     0.499971  \n",
              "min          0.000000     0.000000  \n",
              "25%          0.000000     0.000000  \n",
              "50%          0.000000     0.000000  \n",
              "75%          0.000000     1.000000  \n",
              "max          1.000000     1.000000  "
            ],
            "text/html": [
              "\n",
              "  <div id=\"df-a8a45087-80cc-4789-9522-8342cc190150\">\n",
              "    <div class=\"colab-df-container\">\n",
              "      <div>\n",
              "<style scoped>\n",
              "    .dataframe tbody tr th:only-of-type {\n",
              "        vertical-align: middle;\n",
              "    }\n",
              "\n",
              "    .dataframe tbody tr th {\n",
              "        vertical-align: top;\n",
              "    }\n",
              "\n",
              "    .dataframe thead th {\n",
              "        text-align: right;\n",
              "    }\n",
              "</style>\n",
              "<table border=\"1\" class=\"dataframe\">\n",
              "  <thead>\n",
              "    <tr style=\"text-align: right;\">\n",
              "      <th></th>\n",
              "      <th>Have_HTTPS</th>\n",
              "      <th>Have_At</th>\n",
              "      <th>URL_Length</th>\n",
              "      <th>URL_Depth</th>\n",
              "      <th>Redirection</th>\n",
              "      <th>http_https_Domain</th>\n",
              "      <th>Prefix_Suffix</th>\n",
              "      <th>SubDomainCount</th>\n",
              "      <th>DNS_Record</th>\n",
              "      <th>AgeOfDomain</th>\n",
              "      <th>Domain_End</th>\n",
              "      <th>iFrame</th>\n",
              "      <th>Mouse_Over</th>\n",
              "      <th>Right_Click</th>\n",
              "      <th>Web_Forwards</th>\n",
              "      <th>Google_Index</th>\n",
              "      <th>Favicon</th>\n",
              "      <th>CopyRightSymbol</th>\n",
              "      <th>CopyRightYear</th>\n",
              "      <th>Domain_Around_CopyRight</th>\n",
              "      <th>LinkRatio</th>\n",
              "      <th>SSL_Domain_Name</th>\n",
              "      <th>Submit_Handler</th>\n",
              "      <th>FormMail</th>\n",
              "      <th>NonStandardPort</th>\n",
              "      <th>SubPagesCount</th>\n",
              "      <th>IndexPagesCount</th>\n",
              "      <th>MLSTagsRatio</th>\n",
              "      <th>Anchor_URL</th>\n",
              "      <th>RequestUrl</th>\n",
              "      <th>Empty_Link</th>\n",
              "      <th>visibilityMode</th>\n",
              "      <th>Label</th>\n",
              "    </tr>\n",
              "  </thead>\n",
              "  <tbody>\n",
              "    <tr>\n",
              "      <th>count</th>\n",
              "      <td>4934.000000</td>\n",
              "      <td>4934.000000</td>\n",
              "      <td>4934.000000</td>\n",
              "      <td>4934.000000</td>\n",
              "      <td>4934.000000</td>\n",
              "      <td>4934.000000</td>\n",
              "      <td>4934.000000</td>\n",
              "      <td>4934.000000</td>\n",
              "      <td>4934.000000</td>\n",
              "      <td>4934.000000</td>\n",
              "      <td>4934.000000</td>\n",
              "      <td>4934.000000</td>\n",
              "      <td>4934.000000</td>\n",
              "      <td>4934.000000</td>\n",
              "      <td>4934.000000</td>\n",
              "      <td>4934.000000</td>\n",
              "      <td>4934.000000</td>\n",
              "      <td>4934.000000</td>\n",
              "      <td>4934.000000</td>\n",
              "      <td>4934.000000</td>\n",
              "      <td>4934.000000</td>\n",
              "      <td>4934.000000</td>\n",
              "      <td>4934.000000</td>\n",
              "      <td>4934.000000</td>\n",
              "      <td>4934.000000</td>\n",
              "      <td>4934.000000</td>\n",
              "      <td>4934.000000</td>\n",
              "      <td>4934.000000</td>\n",
              "      <td>4934.000000</td>\n",
              "      <td>4934.000000</td>\n",
              "      <td>4934.000000</td>\n",
              "      <td>4934.000000</td>\n",
              "      <td>4934.000000</td>\n",
              "    </tr>\n",
              "    <tr>\n",
              "      <th>mean</th>\n",
              "      <td>0.211188</td>\n",
              "      <td>0.019051</td>\n",
              "      <td>61.020673</td>\n",
              "      <td>0.598095</td>\n",
              "      <td>0.027767</td>\n",
              "      <td>0.000203</td>\n",
              "      <td>0.386299</td>\n",
              "      <td>0.021484</td>\n",
              "      <td>0.333401</td>\n",
              "      <td>0.543981</td>\n",
              "      <td>0.643089</td>\n",
              "      <td>0.094447</td>\n",
              "      <td>0.065464</td>\n",
              "      <td>0.065667</td>\n",
              "      <td>0.073976</td>\n",
              "      <td>0.050263</td>\n",
              "      <td>0.375760</td>\n",
              "      <td>0.890555</td>\n",
              "      <td>0.990272</td>\n",
              "      <td>0.998176</td>\n",
              "      <td>0.538988</td>\n",
              "      <td>0.907985</td>\n",
              "      <td>0.065464</td>\n",
              "      <td>0.065464</td>\n",
              "      <td>0.017430</td>\n",
              "      <td>1.196190</td>\n",
              "      <td>0.391366</td>\n",
              "      <td>0.877048</td>\n",
              "      <td>0.475417</td>\n",
              "      <td>0.333852</td>\n",
              "      <td>0.120328</td>\n",
              "      <td>0.074382</td>\n",
              "      <td>0.491082</td>\n",
              "    </tr>\n",
              "    <tr>\n",
              "      <th>std</th>\n",
              "      <td>0.408193</td>\n",
              "      <td>0.136720</td>\n",
              "      <td>74.349360</td>\n",
              "      <td>1.222469</td>\n",
              "      <td>0.164320</td>\n",
              "      <td>0.014236</td>\n",
              "      <td>0.486950</td>\n",
              "      <td>0.145004</td>\n",
              "      <td>0.471476</td>\n",
              "      <td>0.498112</td>\n",
              "      <td>0.479137</td>\n",
              "      <td>0.292479</td>\n",
              "      <td>0.247368</td>\n",
              "      <td>0.247724</td>\n",
              "      <td>0.261759</td>\n",
              "      <td>0.218510</td>\n",
              "      <td>0.484368</td>\n",
              "      <td>0.312228</td>\n",
              "      <td>0.098162</td>\n",
              "      <td>0.042675</td>\n",
              "      <td>0.494643</td>\n",
              "      <td>0.289076</td>\n",
              "      <td>0.247368</td>\n",
              "      <td>0.247368</td>\n",
              "      <td>0.130881</td>\n",
              "      <td>13.052841</td>\n",
              "      <td>18.923519</td>\n",
              "      <td>0.300235</td>\n",
              "      <td>0.471192</td>\n",
              "      <td>0.467095</td>\n",
              "      <td>0.309151</td>\n",
              "      <td>0.262418</td>\n",
              "      <td>0.499971</td>\n",
              "    </tr>\n",
              "    <tr>\n",
              "      <th>min</th>\n",
              "      <td>0.000000</td>\n",
              "      <td>0.000000</td>\n",
              "      <td>14.000000</td>\n",
              "      <td>0.000000</td>\n",
              "      <td>0.000000</td>\n",
              "      <td>0.000000</td>\n",
              "      <td>0.000000</td>\n",
              "      <td>0.000000</td>\n",
              "      <td>0.000000</td>\n",
              "      <td>0.000000</td>\n",
              "      <td>0.000000</td>\n",
              "      <td>0.000000</td>\n",
              "      <td>0.000000</td>\n",
              "      <td>0.000000</td>\n",
              "      <td>0.000000</td>\n",
              "      <td>0.000000</td>\n",
              "      <td>0.000000</td>\n",
              "      <td>0.000000</td>\n",
              "      <td>0.000000</td>\n",
              "      <td>0.000000</td>\n",
              "      <td>0.000000</td>\n",
              "      <td>0.000000</td>\n",
              "      <td>0.000000</td>\n",
              "      <td>0.000000</td>\n",
              "      <td>0.000000</td>\n",
              "      <td>0.000000</td>\n",
              "      <td>0.000000</td>\n",
              "      <td>0.000000</td>\n",
              "      <td>0.000000</td>\n",
              "      <td>0.000000</td>\n",
              "      <td>0.000000</td>\n",
              "      <td>0.000000</td>\n",
              "      <td>0.000000</td>\n",
              "    </tr>\n",
              "    <tr>\n",
              "      <th>25%</th>\n",
              "      <td>0.000000</td>\n",
              "      <td>0.000000</td>\n",
              "      <td>34.000000</td>\n",
              "      <td>0.000000</td>\n",
              "      <td>0.000000</td>\n",
              "      <td>0.000000</td>\n",
              "      <td>0.000000</td>\n",
              "      <td>0.000000</td>\n",
              "      <td>0.000000</td>\n",
              "      <td>0.000000</td>\n",
              "      <td>0.000000</td>\n",
              "      <td>0.000000</td>\n",
              "      <td>0.000000</td>\n",
              "      <td>0.000000</td>\n",
              "      <td>0.000000</td>\n",
              "      <td>0.000000</td>\n",
              "      <td>0.000000</td>\n",
              "      <td>1.000000</td>\n",
              "      <td>1.000000</td>\n",
              "      <td>1.000000</td>\n",
              "      <td>0.000000</td>\n",
              "      <td>1.000000</td>\n",
              "      <td>0.000000</td>\n",
              "      <td>0.000000</td>\n",
              "      <td>0.000000</td>\n",
              "      <td>0.000000</td>\n",
              "      <td>0.000000</td>\n",
              "      <td>1.000000</td>\n",
              "      <td>0.000000</td>\n",
              "      <td>0.000000</td>\n",
              "      <td>0.000000</td>\n",
              "      <td>0.000000</td>\n",
              "      <td>0.000000</td>\n",
              "    </tr>\n",
              "    <tr>\n",
              "      <th>50%</th>\n",
              "      <td>0.000000</td>\n",
              "      <td>0.000000</td>\n",
              "      <td>39.000000</td>\n",
              "      <td>0.000000</td>\n",
              "      <td>0.000000</td>\n",
              "      <td>0.000000</td>\n",
              "      <td>0.000000</td>\n",
              "      <td>0.000000</td>\n",
              "      <td>0.000000</td>\n",
              "      <td>1.000000</td>\n",
              "      <td>1.000000</td>\n",
              "      <td>0.000000</td>\n",
              "      <td>0.000000</td>\n",
              "      <td>0.000000</td>\n",
              "      <td>0.000000</td>\n",
              "      <td>0.000000</td>\n",
              "      <td>0.000000</td>\n",
              "      <td>1.000000</td>\n",
              "      <td>1.000000</td>\n",
              "      <td>1.000000</td>\n",
              "      <td>1.000000</td>\n",
              "      <td>1.000000</td>\n",
              "      <td>0.000000</td>\n",
              "      <td>0.000000</td>\n",
              "      <td>0.000000</td>\n",
              "      <td>0.000000</td>\n",
              "      <td>0.000000</td>\n",
              "      <td>1.000000</td>\n",
              "      <td>0.514706</td>\n",
              "      <td>0.000000</td>\n",
              "      <td>0.000000</td>\n",
              "      <td>0.000000</td>\n",
              "      <td>0.000000</td>\n",
              "    </tr>\n",
              "    <tr>\n",
              "      <th>75%</th>\n",
              "      <td>0.000000</td>\n",
              "      <td>0.000000</td>\n",
              "      <td>51.000000</td>\n",
              "      <td>1.000000</td>\n",
              "      <td>0.000000</td>\n",
              "      <td>0.000000</td>\n",
              "      <td>1.000000</td>\n",
              "      <td>0.000000</td>\n",
              "      <td>1.000000</td>\n",
              "      <td>1.000000</td>\n",
              "      <td>1.000000</td>\n",
              "      <td>0.000000</td>\n",
              "      <td>0.000000</td>\n",
              "      <td>0.000000</td>\n",
              "      <td>0.000000</td>\n",
              "      <td>0.000000</td>\n",
              "      <td>1.000000</td>\n",
              "      <td>1.000000</td>\n",
              "      <td>1.000000</td>\n",
              "      <td>1.000000</td>\n",
              "      <td>1.000000</td>\n",
              "      <td>1.000000</td>\n",
              "      <td>0.000000</td>\n",
              "      <td>0.000000</td>\n",
              "      <td>0.000000</td>\n",
              "      <td>0.000000</td>\n",
              "      <td>0.000000</td>\n",
              "      <td>1.000000</td>\n",
              "      <td>1.000000</td>\n",
              "      <td>1.000000</td>\n",
              "      <td>0.000000</td>\n",
              "      <td>0.000000</td>\n",
              "      <td>1.000000</td>\n",
              "    </tr>\n",
              "    <tr>\n",
              "      <th>max</th>\n",
              "      <td>1.000000</td>\n",
              "      <td>1.000000</td>\n",
              "      <td>822.000000</td>\n",
              "      <td>10.000000</td>\n",
              "      <td>1.000000</td>\n",
              "      <td>1.000000</td>\n",
              "      <td>1.000000</td>\n",
              "      <td>1.000000</td>\n",
              "      <td>1.000000</td>\n",
              "      <td>1.000000</td>\n",
              "      <td>1.000000</td>\n",
              "      <td>1.000000</td>\n",
              "      <td>1.000000</td>\n",
              "      <td>1.000000</td>\n",
              "      <td>1.000000</td>\n",
              "      <td>1.000000</td>\n",
              "      <td>1.000000</td>\n",
              "      <td>1.000000</td>\n",
              "      <td>1.000000</td>\n",
              "      <td>1.000000</td>\n",
              "      <td>1.000000</td>\n",
              "      <td>1.000000</td>\n",
              "      <td>1.000000</td>\n",
              "      <td>1.000000</td>\n",
              "      <td>1.000000</td>\n",
              "      <td>633.000000</td>\n",
              "      <td>1220.000000</td>\n",
              "      <td>1.000000</td>\n",
              "      <td>1.000000</td>\n",
              "      <td>1.000000</td>\n",
              "      <td>1.000000</td>\n",
              "      <td>1.000000</td>\n",
              "      <td>1.000000</td>\n",
              "    </tr>\n",
              "  </tbody>\n",
              "</table>\n",
              "</div>\n",
              "      <button class=\"colab-df-convert\" onclick=\"convertToInteractive('df-a8a45087-80cc-4789-9522-8342cc190150')\"\n",
              "              title=\"Convert this dataframe to an interactive table.\"\n",
              "              style=\"display:none;\">\n",
              "        \n",
              "  <svg xmlns=\"http://www.w3.org/2000/svg\" height=\"24px\"viewBox=\"0 0 24 24\"\n",
              "       width=\"24px\">\n",
              "    <path d=\"M0 0h24v24H0V0z\" fill=\"none\"/>\n",
              "    <path d=\"M18.56 5.44l.94 2.06.94-2.06 2.06-.94-2.06-.94-.94-2.06-.94 2.06-2.06.94zm-11 1L8.5 8.5l.94-2.06 2.06-.94-2.06-.94L8.5 2.5l-.94 2.06-2.06.94zm10 10l.94 2.06.94-2.06 2.06-.94-2.06-.94-.94-2.06-.94 2.06-2.06.94z\"/><path d=\"M17.41 7.96l-1.37-1.37c-.4-.4-.92-.59-1.43-.59-.52 0-1.04.2-1.43.59L10.3 9.45l-7.72 7.72c-.78.78-.78 2.05 0 2.83L4 21.41c.39.39.9.59 1.41.59.51 0 1.02-.2 1.41-.59l7.78-7.78 2.81-2.81c.8-.78.8-2.07 0-2.86zM5.41 20L4 18.59l7.72-7.72 1.47 1.35L5.41 20z\"/>\n",
              "  </svg>\n",
              "      </button>\n",
              "      \n",
              "  <style>\n",
              "    .colab-df-container {\n",
              "      display:flex;\n",
              "      flex-wrap:wrap;\n",
              "      gap: 12px;\n",
              "    }\n",
              "\n",
              "    .colab-df-convert {\n",
              "      background-color: #E8F0FE;\n",
              "      border: none;\n",
              "      border-radius: 50%;\n",
              "      cursor: pointer;\n",
              "      display: none;\n",
              "      fill: #1967D2;\n",
              "      height: 32px;\n",
              "      padding: 0 0 0 0;\n",
              "      width: 32px;\n",
              "    }\n",
              "\n",
              "    .colab-df-convert:hover {\n",
              "      background-color: #E2EBFA;\n",
              "      box-shadow: 0px 1px 2px rgba(60, 64, 67, 0.3), 0px 1px 3px 1px rgba(60, 64, 67, 0.15);\n",
              "      fill: #174EA6;\n",
              "    }\n",
              "\n",
              "    [theme=dark] .colab-df-convert {\n",
              "      background-color: #3B4455;\n",
              "      fill: #D2E3FC;\n",
              "    }\n",
              "\n",
              "    [theme=dark] .colab-df-convert:hover {\n",
              "      background-color: #434B5C;\n",
              "      box-shadow: 0px 1px 3px 1px rgba(0, 0, 0, 0.15);\n",
              "      filter: drop-shadow(0px 1px 2px rgba(0, 0, 0, 0.3));\n",
              "      fill: #FFFFFF;\n",
              "    }\n",
              "  </style>\n",
              "\n",
              "      <script>\n",
              "        const buttonEl =\n",
              "          document.querySelector('#df-a8a45087-80cc-4789-9522-8342cc190150 button.colab-df-convert');\n",
              "        buttonEl.style.display =\n",
              "          google.colab.kernel.accessAllowed ? 'block' : 'none';\n",
              "\n",
              "        async function convertToInteractive(key) {\n",
              "          const element = document.querySelector('#df-a8a45087-80cc-4789-9522-8342cc190150');\n",
              "          const dataTable =\n",
              "            await google.colab.kernel.invokeFunction('convertToInteractive',\n",
              "                                                     [key], {});\n",
              "          if (!dataTable) return;\n",
              "\n",
              "          const docLinkHtml = 'Like what you see? Visit the ' +\n",
              "            '<a target=\"_blank\" href=https://colab.research.google.com/notebooks/data_table.ipynb>data table notebook</a>'\n",
              "            + ' to learn more about interactive tables.';\n",
              "          element.innerHTML = '';\n",
              "          dataTable['output_type'] = 'display_data';\n",
              "          await google.colab.output.renderOutput(dataTable, element);\n",
              "          const docLink = document.createElement('div');\n",
              "          docLink.innerHTML = docLinkHtml;\n",
              "          element.appendChild(docLink);\n",
              "        }\n",
              "      </script>\n",
              "    </div>\n",
              "  </div>\n",
              "  "
            ]
          },
          "metadata": {},
          "execution_count": 11
        }
      ]
    },
    {
      "cell_type": "code",
      "source": [
        "# %matplotlib inline \n",
        "# dataset.hist(bins=50 , figsize=(20,15))"
      ],
      "metadata": {
        "id": "cjVA5W1sbSzs"
      },
      "execution_count": null,
      "outputs": []
    },
    {
      "cell_type": "code",
      "source": [
        "from sklearn.model_selection import train_test_split\n",
        "train_set,test_set=train_test_split(dataset,test_size=0.2,random_state=42)\n",
        "print(\"train_set length : \",len(train_set))\n",
        "print(\"test_set length : \",len(test_set))\n",
        "print(\"total length : \",len(dataset))"
      ],
      "metadata": {
        "colab": {
          "base_uri": "https://localhost:8080/"
        },
        "id": "CmuEHMm_b-My",
        "outputId": "7a9b62a2-b472-4efd-abb5-106520940941"
      },
      "execution_count": null,
      "outputs": [
        {
          "output_type": "stream",
          "name": "stdout",
          "text": [
            "train_set length :  3947\n",
            "test_set length :  987\n",
            "total length :  4934\n"
          ]
        }
      ]
    },
    {
      "cell_type": "code",
      "source": [
        "#To avoid imvalence train set \n",
        "from sklearn.model_selection import StratifiedShuffleSplit \n",
        "split_data=StratifiedShuffleSplit(n_splits=1,test_size=0.2,random_state=42)\n",
        "for train_index,test_index in split_data.split(dataset,dataset['Label']):\n",
        "    strat_train_set=dataset.loc[train_index]\n",
        "    strat_test_set=dataset.loc[test_index]"
      ],
      "metadata": {
        "id": "aZrCgS5Mcgq9"
      },
      "execution_count": null,
      "outputs": []
    },
    {
      "cell_type": "code",
      "source": [
        "strat_test_set['Label'].value_counts(),strat_train_set['Label'].value_counts()"
      ],
      "metadata": {
        "colab": {
          "base_uri": "https://localhost:8080/"
        },
        "id": "uMFr7DNycwS0",
        "outputId": "33fb4093-7d1e-456d-8c6f-e269feb146ad"
      },
      "execution_count": null,
      "outputs": [
        {
          "output_type": "execute_result",
          "data": {
            "text/plain": [
              "(0    502\n",
              " 1    485\n",
              " Name: Label, dtype: int64,\n",
              " 0    2009\n",
              " 1    1938\n",
              " Name: Label, dtype: int64)"
            ]
          },
          "metadata": {},
          "execution_count": 14
        }
      ]
    },
    {
      "cell_type": "code",
      "source": [
        "dataset=strat_train_set.copy()\n",
        "testdata=strat_test_set.copy()\n",
        "dataset.shape,testdata.shape"
      ],
      "metadata": {
        "id": "MYIaqYU7cwad",
        "colab": {
          "base_uri": "https://localhost:8080/"
        },
        "outputId": "33c4281a-eed4-40ea-9b9d-944cd5b5525c"
      },
      "execution_count": null,
      "outputs": [
        {
          "output_type": "execute_result",
          "data": {
            "text/plain": [
              "((3947, 34), (987, 34))"
            ]
          },
          "metadata": {},
          "execution_count": 15
        }
      ]
    },
    {
      "cell_type": "code",
      "source": [
        "# corr_matrix=dataset.corr()\n",
        "# corr_matrix['Label'].sort_values(ascending=False)"
      ],
      "metadata": {
        "id": "ZpWr3T2ldOwT"
      },
      "execution_count": null,
      "outputs": []
    },
    {
      "cell_type": "code",
      "source": [
        "# from pandas.plotting import scatter_matrix \n",
        "# scatter_matrix(dataset,figsize=(30,20))"
      ],
      "metadata": {
        "id": "QORKwIUzJuhr"
      },
      "execution_count": null,
      "outputs": []
    },
    {
      "cell_type": "code",
      "source": [
        "dataset_x=strat_train_set.drop(['Domain','Label'],axis=1)\n",
        "dataset_y=strat_train_set[\"Label\"].copy()\n",
        "dataset_x.shape,dataset_y.shape"
      ],
      "metadata": {
        "id": "tshdRynAKPbn",
        "colab": {
          "base_uri": "https://localhost:8080/"
        },
        "outputId": "de4e61f2-1848-4c56-cce4-0b35a466ddd5"
      },
      "execution_count": null,
      "outputs": [
        {
          "output_type": "execute_result",
          "data": {
            "text/plain": [
              "((3947, 32), (3947,))"
            ]
          },
          "metadata": {},
          "execution_count": 16
        }
      ]
    },
    {
      "cell_type": "code",
      "source": [
        "test_x=strat_test_set.drop(['Domain','Label'],axis=1)\n",
        "test_y=strat_test_set[\"Label\"].copy()"
      ],
      "metadata": {
        "id": "8TOcYzxa4dhw"
      },
      "execution_count": null,
      "outputs": []
    },
    {
      "cell_type": "code",
      "source": [
        "dataset_x.head()"
      ],
      "metadata": {
        "colab": {
          "base_uri": "https://localhost:8080/",
          "height": 270
        },
        "id": "2LD1OlY9KyB6",
        "outputId": "bdd3c11d-ec57-4496-dfa2-ea5f2fc1c575"
      },
      "execution_count": null,
      "outputs": [
        {
          "output_type": "execute_result",
          "data": {
            "text/plain": [
              "      Have_HTTPS  Have_At  URL_Length  URL_Depth  Redirection  \\\n",
              "3023           0        0          34          0            0   \n",
              "1098           1        0         473          3            0   \n",
              "3747           1        0          32          0            0   \n",
              "1836           1        0          33          0            0   \n",
              "3443           0        0          43          1            0   \n",
              "\n",
              "      http_https_Domain  Prefix_Suffix  SubDomainCount  DNS_Record  \\\n",
              "3023                  0              1               0           0   \n",
              "1098                  0              0               0           0   \n",
              "3747                  0              0               0           0   \n",
              "1836                  0              0               0           0   \n",
              "3443                  0              1               0           0   \n",
              "\n",
              "      AgeOfDomain  Domain_End  iFrame  Mouse_Over  Right_Click  Web_Forwards  \\\n",
              "3023            0           0       0           0            0             0   \n",
              "1098            1           1       0           0            0             0   \n",
              "3747            0           0       1           0            0             0   \n",
              "1836            0           1       0           0            0             0   \n",
              "3443            1           1       0           0            0             0   \n",
              "\n",
              "      Google_Index  Favicon  CopyRightSymbol  CopyRightYear  \\\n",
              "3023             0        1                1              1   \n",
              "1098             0        0                1              1   \n",
              "3747             0        0                1              1   \n",
              "1836             0        0                1              1   \n",
              "3443             0        1                1              1   \n",
              "\n",
              "      Domain_Around_CopyRight  LinkRatio  SSL_Domain_Name  Submit_Handler  \\\n",
              "3023                        1        1.0                1               0   \n",
              "1098                        1        0.0                1               0   \n",
              "3747                        1        1.0                1               0   \n",
              "1836                        1        1.0                1               0   \n",
              "3443                        1        0.0                1               0   \n",
              "\n",
              "      FormMail  NonStandardPort  SubPagesCount  IndexPagesCount  MLSTagsRatio  \\\n",
              "3023         0                0              0                0           1.0   \n",
              "1098         0                0              2                0           1.0   \n",
              "3747         0                0              0                0           1.0   \n",
              "1836         0                0              0                0           1.0   \n",
              "3443         0                0              0                0           1.0   \n",
              "\n",
              "      Anchor_URL  RequestUrl  Empty_Link  visibilityMode  \n",
              "3023    0.000000         0.0    0.000000               0  \n",
              "1098    0.666667         0.0    0.000000               0  \n",
              "3747    0.000000         0.0    0.000000               0  \n",
              "1836    0.000000         0.0    0.000000               0  \n",
              "3443    1.000000         1.0    0.941176               0  "
            ],
            "text/html": [
              "\n",
              "  <div id=\"df-9fb3a7b9-44d9-4cee-9426-cacbe5ab8d61\">\n",
              "    <div class=\"colab-df-container\">\n",
              "      <div>\n",
              "<style scoped>\n",
              "    .dataframe tbody tr th:only-of-type {\n",
              "        vertical-align: middle;\n",
              "    }\n",
              "\n",
              "    .dataframe tbody tr th {\n",
              "        vertical-align: top;\n",
              "    }\n",
              "\n",
              "    .dataframe thead th {\n",
              "        text-align: right;\n",
              "    }\n",
              "</style>\n",
              "<table border=\"1\" class=\"dataframe\">\n",
              "  <thead>\n",
              "    <tr style=\"text-align: right;\">\n",
              "      <th></th>\n",
              "      <th>Have_HTTPS</th>\n",
              "      <th>Have_At</th>\n",
              "      <th>URL_Length</th>\n",
              "      <th>URL_Depth</th>\n",
              "      <th>Redirection</th>\n",
              "      <th>http_https_Domain</th>\n",
              "      <th>Prefix_Suffix</th>\n",
              "      <th>SubDomainCount</th>\n",
              "      <th>DNS_Record</th>\n",
              "      <th>AgeOfDomain</th>\n",
              "      <th>Domain_End</th>\n",
              "      <th>iFrame</th>\n",
              "      <th>Mouse_Over</th>\n",
              "      <th>Right_Click</th>\n",
              "      <th>Web_Forwards</th>\n",
              "      <th>Google_Index</th>\n",
              "      <th>Favicon</th>\n",
              "      <th>CopyRightSymbol</th>\n",
              "      <th>CopyRightYear</th>\n",
              "      <th>Domain_Around_CopyRight</th>\n",
              "      <th>LinkRatio</th>\n",
              "      <th>SSL_Domain_Name</th>\n",
              "      <th>Submit_Handler</th>\n",
              "      <th>FormMail</th>\n",
              "      <th>NonStandardPort</th>\n",
              "      <th>SubPagesCount</th>\n",
              "      <th>IndexPagesCount</th>\n",
              "      <th>MLSTagsRatio</th>\n",
              "      <th>Anchor_URL</th>\n",
              "      <th>RequestUrl</th>\n",
              "      <th>Empty_Link</th>\n",
              "      <th>visibilityMode</th>\n",
              "    </tr>\n",
              "  </thead>\n",
              "  <tbody>\n",
              "    <tr>\n",
              "      <th>3023</th>\n",
              "      <td>0</td>\n",
              "      <td>0</td>\n",
              "      <td>34</td>\n",
              "      <td>0</td>\n",
              "      <td>0</td>\n",
              "      <td>0</td>\n",
              "      <td>1</td>\n",
              "      <td>0</td>\n",
              "      <td>0</td>\n",
              "      <td>0</td>\n",
              "      <td>0</td>\n",
              "      <td>0</td>\n",
              "      <td>0</td>\n",
              "      <td>0</td>\n",
              "      <td>0</td>\n",
              "      <td>0</td>\n",
              "      <td>1</td>\n",
              "      <td>1</td>\n",
              "      <td>1</td>\n",
              "      <td>1</td>\n",
              "      <td>1.0</td>\n",
              "      <td>1</td>\n",
              "      <td>0</td>\n",
              "      <td>0</td>\n",
              "      <td>0</td>\n",
              "      <td>0</td>\n",
              "      <td>0</td>\n",
              "      <td>1.0</td>\n",
              "      <td>0.000000</td>\n",
              "      <td>0.0</td>\n",
              "      <td>0.000000</td>\n",
              "      <td>0</td>\n",
              "    </tr>\n",
              "    <tr>\n",
              "      <th>1098</th>\n",
              "      <td>1</td>\n",
              "      <td>0</td>\n",
              "      <td>473</td>\n",
              "      <td>3</td>\n",
              "      <td>0</td>\n",
              "      <td>0</td>\n",
              "      <td>0</td>\n",
              "      <td>0</td>\n",
              "      <td>0</td>\n",
              "      <td>1</td>\n",
              "      <td>1</td>\n",
              "      <td>0</td>\n",
              "      <td>0</td>\n",
              "      <td>0</td>\n",
              "      <td>0</td>\n",
              "      <td>0</td>\n",
              "      <td>0</td>\n",
              "      <td>1</td>\n",
              "      <td>1</td>\n",
              "      <td>1</td>\n",
              "      <td>0.0</td>\n",
              "      <td>1</td>\n",
              "      <td>0</td>\n",
              "      <td>0</td>\n",
              "      <td>0</td>\n",
              "      <td>2</td>\n",
              "      <td>0</td>\n",
              "      <td>1.0</td>\n",
              "      <td>0.666667</td>\n",
              "      <td>0.0</td>\n",
              "      <td>0.000000</td>\n",
              "      <td>0</td>\n",
              "    </tr>\n",
              "    <tr>\n",
              "      <th>3747</th>\n",
              "      <td>1</td>\n",
              "      <td>0</td>\n",
              "      <td>32</td>\n",
              "      <td>0</td>\n",
              "      <td>0</td>\n",
              "      <td>0</td>\n",
              "      <td>0</td>\n",
              "      <td>0</td>\n",
              "      <td>0</td>\n",
              "      <td>0</td>\n",
              "      <td>0</td>\n",
              "      <td>1</td>\n",
              "      <td>0</td>\n",
              "      <td>0</td>\n",
              "      <td>0</td>\n",
              "      <td>0</td>\n",
              "      <td>0</td>\n",
              "      <td>1</td>\n",
              "      <td>1</td>\n",
              "      <td>1</td>\n",
              "      <td>1.0</td>\n",
              "      <td>1</td>\n",
              "      <td>0</td>\n",
              "      <td>0</td>\n",
              "      <td>0</td>\n",
              "      <td>0</td>\n",
              "      <td>0</td>\n",
              "      <td>1.0</td>\n",
              "      <td>0.000000</td>\n",
              "      <td>0.0</td>\n",
              "      <td>0.000000</td>\n",
              "      <td>0</td>\n",
              "    </tr>\n",
              "    <tr>\n",
              "      <th>1836</th>\n",
              "      <td>1</td>\n",
              "      <td>0</td>\n",
              "      <td>33</td>\n",
              "      <td>0</td>\n",
              "      <td>0</td>\n",
              "      <td>0</td>\n",
              "      <td>0</td>\n",
              "      <td>0</td>\n",
              "      <td>0</td>\n",
              "      <td>0</td>\n",
              "      <td>1</td>\n",
              "      <td>0</td>\n",
              "      <td>0</td>\n",
              "      <td>0</td>\n",
              "      <td>0</td>\n",
              "      <td>0</td>\n",
              "      <td>0</td>\n",
              "      <td>1</td>\n",
              "      <td>1</td>\n",
              "      <td>1</td>\n",
              "      <td>1.0</td>\n",
              "      <td>1</td>\n",
              "      <td>0</td>\n",
              "      <td>0</td>\n",
              "      <td>0</td>\n",
              "      <td>0</td>\n",
              "      <td>0</td>\n",
              "      <td>1.0</td>\n",
              "      <td>0.000000</td>\n",
              "      <td>0.0</td>\n",
              "      <td>0.000000</td>\n",
              "      <td>0</td>\n",
              "    </tr>\n",
              "    <tr>\n",
              "      <th>3443</th>\n",
              "      <td>0</td>\n",
              "      <td>0</td>\n",
              "      <td>43</td>\n",
              "      <td>1</td>\n",
              "      <td>0</td>\n",
              "      <td>0</td>\n",
              "      <td>1</td>\n",
              "      <td>0</td>\n",
              "      <td>0</td>\n",
              "      <td>1</td>\n",
              "      <td>1</td>\n",
              "      <td>0</td>\n",
              "      <td>0</td>\n",
              "      <td>0</td>\n",
              "      <td>0</td>\n",
              "      <td>0</td>\n",
              "      <td>1</td>\n",
              "      <td>1</td>\n",
              "      <td>1</td>\n",
              "      <td>1</td>\n",
              "      <td>0.0</td>\n",
              "      <td>1</td>\n",
              "      <td>0</td>\n",
              "      <td>0</td>\n",
              "      <td>0</td>\n",
              "      <td>0</td>\n",
              "      <td>0</td>\n",
              "      <td>1.0</td>\n",
              "      <td>1.000000</td>\n",
              "      <td>1.0</td>\n",
              "      <td>0.941176</td>\n",
              "      <td>0</td>\n",
              "    </tr>\n",
              "  </tbody>\n",
              "</table>\n",
              "</div>\n",
              "      <button class=\"colab-df-convert\" onclick=\"convertToInteractive('df-9fb3a7b9-44d9-4cee-9426-cacbe5ab8d61')\"\n",
              "              title=\"Convert this dataframe to an interactive table.\"\n",
              "              style=\"display:none;\">\n",
              "        \n",
              "  <svg xmlns=\"http://www.w3.org/2000/svg\" height=\"24px\"viewBox=\"0 0 24 24\"\n",
              "       width=\"24px\">\n",
              "    <path d=\"M0 0h24v24H0V0z\" fill=\"none\"/>\n",
              "    <path d=\"M18.56 5.44l.94 2.06.94-2.06 2.06-.94-2.06-.94-.94-2.06-.94 2.06-2.06.94zm-11 1L8.5 8.5l.94-2.06 2.06-.94-2.06-.94L8.5 2.5l-.94 2.06-2.06.94zm10 10l.94 2.06.94-2.06 2.06-.94-2.06-.94-.94-2.06-.94 2.06-2.06.94z\"/><path d=\"M17.41 7.96l-1.37-1.37c-.4-.4-.92-.59-1.43-.59-.52 0-1.04.2-1.43.59L10.3 9.45l-7.72 7.72c-.78.78-.78 2.05 0 2.83L4 21.41c.39.39.9.59 1.41.59.51 0 1.02-.2 1.41-.59l7.78-7.78 2.81-2.81c.8-.78.8-2.07 0-2.86zM5.41 20L4 18.59l7.72-7.72 1.47 1.35L5.41 20z\"/>\n",
              "  </svg>\n",
              "      </button>\n",
              "      \n",
              "  <style>\n",
              "    .colab-df-container {\n",
              "      display:flex;\n",
              "      flex-wrap:wrap;\n",
              "      gap: 12px;\n",
              "    }\n",
              "\n",
              "    .colab-df-convert {\n",
              "      background-color: #E8F0FE;\n",
              "      border: none;\n",
              "      border-radius: 50%;\n",
              "      cursor: pointer;\n",
              "      display: none;\n",
              "      fill: #1967D2;\n",
              "      height: 32px;\n",
              "      padding: 0 0 0 0;\n",
              "      width: 32px;\n",
              "    }\n",
              "\n",
              "    .colab-df-convert:hover {\n",
              "      background-color: #E2EBFA;\n",
              "      box-shadow: 0px 1px 2px rgba(60, 64, 67, 0.3), 0px 1px 3px 1px rgba(60, 64, 67, 0.15);\n",
              "      fill: #174EA6;\n",
              "    }\n",
              "\n",
              "    [theme=dark] .colab-df-convert {\n",
              "      background-color: #3B4455;\n",
              "      fill: #D2E3FC;\n",
              "    }\n",
              "\n",
              "    [theme=dark] .colab-df-convert:hover {\n",
              "      background-color: #434B5C;\n",
              "      box-shadow: 0px 1px 3px 1px rgba(0, 0, 0, 0.15);\n",
              "      filter: drop-shadow(0px 1px 2px rgba(0, 0, 0, 0.3));\n",
              "      fill: #FFFFFF;\n",
              "    }\n",
              "  </style>\n",
              "\n",
              "      <script>\n",
              "        const buttonEl =\n",
              "          document.querySelector('#df-9fb3a7b9-44d9-4cee-9426-cacbe5ab8d61 button.colab-df-convert');\n",
              "        buttonEl.style.display =\n",
              "          google.colab.kernel.accessAllowed ? 'block' : 'none';\n",
              "\n",
              "        async function convertToInteractive(key) {\n",
              "          const element = document.querySelector('#df-9fb3a7b9-44d9-4cee-9426-cacbe5ab8d61');\n",
              "          const dataTable =\n",
              "            await google.colab.kernel.invokeFunction('convertToInteractive',\n",
              "                                                     [key], {});\n",
              "          if (!dataTable) return;\n",
              "\n",
              "          const docLinkHtml = 'Like what you see? Visit the ' +\n",
              "            '<a target=\"_blank\" href=https://colab.research.google.com/notebooks/data_table.ipynb>data table notebook</a>'\n",
              "            + ' to learn more about interactive tables.';\n",
              "          element.innerHTML = '';\n",
              "          dataTable['output_type'] = 'display_data';\n",
              "          await google.colab.output.renderOutput(dataTable, element);\n",
              "          const docLink = document.createElement('div');\n",
              "          docLink.innerHTML = docLinkHtml;\n",
              "          element.appendChild(docLink);\n",
              "        }\n",
              "      </script>\n",
              "    </div>\n",
              "  </div>\n",
              "  "
            ]
          },
          "metadata": {},
          "execution_count": 18
        }
      ]
    },
    {
      "cell_type": "code",
      "source": [
        "dataset_y.head()"
      ],
      "metadata": {
        "colab": {
          "base_uri": "https://localhost:8080/"
        },
        "id": "v_0V3jp1LXtV",
        "outputId": "fec1eb2a-7ab3-4d3f-a0cd-874697f4bf8d"
      },
      "execution_count": null,
      "outputs": [
        {
          "output_type": "execute_result",
          "data": {
            "text/plain": [
              "3023    1\n",
              "1098    0\n",
              "3747    1\n",
              "1836    0\n",
              "3443    1\n",
              "Name: Label, dtype: int64"
            ]
          },
          "metadata": {},
          "execution_count": 19
        }
      ]
    },
    {
      "cell_type": "code",
      "source": [
        "from sklearn.pipeline import Pipeline \n",
        "from sklearn.impute import SimpleImputer \n",
        "from sklearn.preprocessing import StandardScaler,MinMaxScaler \n",
        "my_pipeline = Pipeline([\n",
        "    ('imputer',SimpleImputer(strategy=\"mean\")),\n",
        "    ('std_scaler',StandardScaler())\n",
        "])"
      ],
      "metadata": {
        "id": "2a-71LZJM-jw"
      },
      "execution_count": null,
      "outputs": []
    },
    {
      "cell_type": "code",
      "source": [
        "dataset_x=my_pipeline.fit_transform(dataset_x)\n",
        "test_x=my_pipeline.fit_transform(test_x)"
      ],
      "metadata": {
        "id": "rYD47PqaNTXb"
      },
      "execution_count": null,
      "outputs": []
    },
    {
      "cell_type": "code",
      "source": [
        "print(\"training data :\",dataset_x.shape)\n",
        "print(\"testing data :\",test_x.shape)\n",
        "print(\"label of training data :\",dataset_y.shape)\n",
        "print(\"label of test data :\",test_y.shape)"
      ],
      "metadata": {
        "colab": {
          "base_uri": "https://localhost:8080/"
        },
        "id": "1B23c7wINwHT",
        "outputId": "d4b416c1-dbd0-4f5e-d778-8374e2247179"
      },
      "execution_count": null,
      "outputs": [
        {
          "output_type": "stream",
          "name": "stdout",
          "text": [
            "training data : (3947, 32)\n",
            "testing data : (987, 32)\n",
            "label of training data : (3947,)\n",
            "label of test data : (987,)\n"
          ]
        }
      ]
    },
    {
      "cell_type": "markdown",
      "source": [
        "#**GridSearchCV**"
      ],
      "metadata": {
        "id": "IW5PG17saKL9"
      }
    },
    {
      "cell_type": "code",
      "source": [
        "# Number of trees in random forest\n",
        "# n_estimators = [100,150,200,250,300]\n",
        "# criterion =[\"gini\", \"entropy\", \"log_loss\"]\n",
        "# max_features = [0.8,'sqrt', 'log2',None]\n",
        "# max_depth = [8,10,None]\n",
        "# max_samples = [0.75,1.0,None]\n",
        "# param_grid = {'n_estimators': n_estimators,\n",
        "#               'criterion':criterion,\n",
        "#                'max_features': max_features,\n",
        "#                'max_depth': max_depth,\n",
        "#               'max_samples':max_samples,\n",
        "#              }\n",
        "# print(param_grid)"
      ],
      "metadata": {
        "id": "DTe44TjaaIbZ",
        "colab": {
          "base_uri": "https://localhost:8080/"
        },
        "outputId": "9d2f4a17-8fc0-47dd-a80f-ee95eee37003"
      },
      "execution_count": null,
      "outputs": [
        {
          "output_type": "stream",
          "name": "stdout",
          "text": [
            "{'n_estimators': [100, 150, 200, 250, 300], 'criterion': ['gini', 'entropy', 'log_loss'], 'max_features': [0.8, 'sqrt', 'log2', None], 'max_depth': [8, 10, None], 'max_samples': [0.75, 1.0, None]}\n"
          ]
        }
      ]
    },
    {
      "cell_type": "code",
      "source": [
        "# from sklearn.ensemble import RandomForestClassifier\n",
        "# from sklearn.metrics import accuracy_score,confusion_matrix\n",
        "# from sklearn.neural_network import MLPClassifier\n",
        "# rf = RandomForestClassifier()\n",
        "# mlp=MLPClassifier(alpha=0.001,learning_rate='adaptive',random_state=42,hidden_layer_sizes=([100,100,100]))\n",
        "# rf.fit(dataset_x,dataset_y)"
      ],
      "metadata": {
        "id": "3wsjuw4w3TQg",
        "colab": {
          "base_uri": "https://localhost:8080/"
        },
        "outputId": "26ae644f-18b4-4add-81e0-a80cf2b6aedf"
      },
      "execution_count": null,
      "outputs": [
        {
          "output_type": "stream",
          "name": "stdout",
          "text": [
            "Train Ensemble Accuracy: 0.9819659639319278\n",
            "Test Ensemble Accuracy: 0.9472081218274112\n"
          ]
        },
        {
          "output_type": "execute_result",
          "data": {
            "text/plain": [
              "array([[481,  19],\n",
              "       [ 33, 452]])"
            ]
          },
          "metadata": {},
          "execution_count": 266
        }
      ]
    },
    {
      "cell_type": "markdown",
      "source": [
        "##**Training Random Forest Classifier**"
      ],
      "metadata": {
        "id": "Sj3In1UP2qqY"
      }
    },
    {
      "cell_type": "code",
      "source": [
        "from sklearn.ensemble import RandomForestClassifier\n",
        "forest =RandomForestClassifier(n_estimators=300,random_state=42,max_features=.75)\n",
        "forest.fit(dataset_x,dataset_y)"
      ],
      "metadata": {
        "id": "mKQsXums2wbi",
        "colab": {
          "base_uri": "https://localhost:8080/",
          "height": 75
        },
        "outputId": "542a601d-a9ce-409c-d7cc-bc119668949b"
      },
      "execution_count": null,
      "outputs": [
        {
          "output_type": "execute_result",
          "data": {
            "text/plain": [
              "RandomForestClassifier(max_features=0.75, n_estimators=300, random_state=42)"
            ],
            "text/html": [
              "<style>#sk-container-id-7 {color: black;background-color: white;}#sk-container-id-7 pre{padding: 0;}#sk-container-id-7 div.sk-toggleable {background-color: white;}#sk-container-id-7 label.sk-toggleable__label {cursor: pointer;display: block;width: 100%;margin-bottom: 0;padding: 0.3em;box-sizing: border-box;text-align: center;}#sk-container-id-7 label.sk-toggleable__label-arrow:before {content: \"▸\";float: left;margin-right: 0.25em;color: #696969;}#sk-container-id-7 label.sk-toggleable__label-arrow:hover:before {color: black;}#sk-container-id-7 div.sk-estimator:hover label.sk-toggleable__label-arrow:before {color: black;}#sk-container-id-7 div.sk-toggleable__content {max-height: 0;max-width: 0;overflow: hidden;text-align: left;background-color: #f0f8ff;}#sk-container-id-7 div.sk-toggleable__content pre {margin: 0.2em;color: black;border-radius: 0.25em;background-color: #f0f8ff;}#sk-container-id-7 input.sk-toggleable__control:checked~div.sk-toggleable__content {max-height: 200px;max-width: 100%;overflow: auto;}#sk-container-id-7 input.sk-toggleable__control:checked~label.sk-toggleable__label-arrow:before {content: \"▾\";}#sk-container-id-7 div.sk-estimator input.sk-toggleable__control:checked~label.sk-toggleable__label {background-color: #d4ebff;}#sk-container-id-7 div.sk-label input.sk-toggleable__control:checked~label.sk-toggleable__label {background-color: #d4ebff;}#sk-container-id-7 input.sk-hidden--visually {border: 0;clip: rect(1px 1px 1px 1px);clip: rect(1px, 1px, 1px, 1px);height: 1px;margin: -1px;overflow: hidden;padding: 0;position: absolute;width: 1px;}#sk-container-id-7 div.sk-estimator {font-family: monospace;background-color: #f0f8ff;border: 1px dotted black;border-radius: 0.25em;box-sizing: border-box;margin-bottom: 0.5em;}#sk-container-id-7 div.sk-estimator:hover {background-color: #d4ebff;}#sk-container-id-7 div.sk-parallel-item::after {content: \"\";width: 100%;border-bottom: 1px solid gray;flex-grow: 1;}#sk-container-id-7 div.sk-label:hover label.sk-toggleable__label {background-color: #d4ebff;}#sk-container-id-7 div.sk-serial::before {content: \"\";position: absolute;border-left: 1px solid gray;box-sizing: border-box;top: 0;bottom: 0;left: 50%;z-index: 0;}#sk-container-id-7 div.sk-serial {display: flex;flex-direction: column;align-items: center;background-color: white;padding-right: 0.2em;padding-left: 0.2em;position: relative;}#sk-container-id-7 div.sk-item {position: relative;z-index: 1;}#sk-container-id-7 div.sk-parallel {display: flex;align-items: stretch;justify-content: center;background-color: white;position: relative;}#sk-container-id-7 div.sk-item::before, #sk-container-id-7 div.sk-parallel-item::before {content: \"\";position: absolute;border-left: 1px solid gray;box-sizing: border-box;top: 0;bottom: 0;left: 50%;z-index: -1;}#sk-container-id-7 div.sk-parallel-item {display: flex;flex-direction: column;z-index: 1;position: relative;background-color: white;}#sk-container-id-7 div.sk-parallel-item:first-child::after {align-self: flex-end;width: 50%;}#sk-container-id-7 div.sk-parallel-item:last-child::after {align-self: flex-start;width: 50%;}#sk-container-id-7 div.sk-parallel-item:only-child::after {width: 0;}#sk-container-id-7 div.sk-dashed-wrapped {border: 1px dashed gray;margin: 0 0.4em 0.5em 0.4em;box-sizing: border-box;padding-bottom: 0.4em;background-color: white;}#sk-container-id-7 div.sk-label label {font-family: monospace;font-weight: bold;display: inline-block;line-height: 1.2em;}#sk-container-id-7 div.sk-label-container {text-align: center;}#sk-container-id-7 div.sk-container {/* jupyter's `normalize.less` sets `[hidden] { display: none; }` but bootstrap.min.css set `[hidden] { display: none !important; }` so we also need the `!important` here to be able to override the default hidden behavior on the sphinx rendered scikit-learn.org. See: https://github.com/scikit-learn/scikit-learn/issues/21755 */display: inline-block !important;position: relative;}#sk-container-id-7 div.sk-text-repr-fallback {display: none;}</style><div id=\"sk-container-id-7\" class=\"sk-top-container\"><div class=\"sk-text-repr-fallback\"><pre>RandomForestClassifier(max_features=0.75, n_estimators=300, random_state=42)</pre><b>In a Jupyter environment, please rerun this cell to show the HTML representation or trust the notebook. <br />On GitHub, the HTML representation is unable to render, please try loading this page with nbviewer.org.</b></div><div class=\"sk-container\" hidden><div class=\"sk-item\"><div class=\"sk-estimator sk-toggleable\"><input class=\"sk-toggleable__control sk-hidden--visually\" id=\"sk-estimator-id-7\" type=\"checkbox\" checked><label for=\"sk-estimator-id-7\" class=\"sk-toggleable__label sk-toggleable__label-arrow\">RandomForestClassifier</label><div class=\"sk-toggleable__content\"><pre>RandomForestClassifier(max_features=0.75, n_estimators=300, random_state=42)</pre></div></div></div></div></div>"
            ]
          },
          "metadata": {},
          "execution_count": 35
        }
      ]
    },
    {
      "cell_type": "markdown",
      "source": [
        "##**Finding out traning and testng accuracy of Random Forest Classifier**"
      ],
      "metadata": {
        "id": "5Foldlb0HdoU"
      }
    },
    {
      "cell_type": "code",
      "source": [
        "from sklearn.metrics import accuracy_score\n",
        "predicted_train_y= forest.predict(dataset_x)\n",
        "#computing the accuracy of the model performance\n",
        "train_data_acc= accuracy_score(dataset_y,predicted_train_y)\n",
        "print(\"Random forest: Accuracy on train Data: {:.3f}\".format(train_data_acc))\n",
        "print('--------------------------------------------')\n",
        "predicted_y= forest.predict(test_x)\n",
        "#computing the accuracy of the model performance\n",
        "test_data_acc= accuracy_score(test_y,predicted_y)\n",
        "print(\"Random forest: Accuracy on test Data: {:.3f}\".format(test_data_acc))"
      ],
      "metadata": {
        "id": "joYKKXQs3Ws-",
        "colab": {
          "base_uri": "https://localhost:8080/"
        },
        "outputId": "3c1f879a-cafd-40a0-ed15-cecdec51b839"
      },
      "execution_count": null,
      "outputs": [
        {
          "output_type": "stream",
          "name": "stdout",
          "text": [
            "Random forest: Accuracy on train Data: 0.995\n",
            "--------------------------------------------\n",
            "Random forest: Accuracy on test Data: 0.973\n"
          ]
        }
      ]
    },
    {
      "cell_type": "markdown",
      "source": [
        "##**Calculating Performance matric of Random Forest Classifier**"
      ],
      "metadata": {
        "id": "KJ59AU8SfFi6"
      }
    },
    {
      "cell_type": "code",
      "source": [
        "from sklearn.metrics import accuracy_score, precision_score, recall_score, f1_score, roc_curve, auc, confusion_matrix\n",
        "# Precision\n",
        "precision = precision_score(test_y,predicted_y)\n",
        "print('Precision:', precision)\n",
        "\n",
        "# Recall\n",
        "recall = recall_score(test_y,predicted_y)\n",
        "print('Recall:', recall)\n",
        "\n",
        "# F1 score\n",
        "f1 = f1_score(test_y,predicted_y)\n",
        "print('F1 score:', f1)\n",
        "\n",
        "# Confusion matrix\n",
        "confusion_mat = confusion_matrix(test_y,predicted_y)\n",
        "print('Confusion matrix:', confusion_mat)\n",
        "\n",
        "\n",
        "fig, ax = plt.subplots()\n",
        "\n",
        "# Plot the confusion matrix as an image\n",
        "im = ax.imshow(confusion_mat, interpolation='nearest', cmap=plt.cm.Blues)\n",
        "\n",
        "# Add a colorbar\n",
        "fig.colorbar(im)\n",
        "\n",
        "# Add labels for the x and y axes\n",
        "ax.set(xticks=np.arange(confusion_mat.shape[1]),\n",
        "       yticks=np.arange(confusion_mat.shape[0]),\n",
        "       xticklabels=['Predicted 0', 'Predicted 1'], \n",
        "       yticklabels=['True 0', 'True 1'],\n",
        "       xlabel='Predicted label',\n",
        "       ylabel='True label')\n",
        "\n",
        "# Add the actual values in the plot\n",
        "thresh = confusion_mat.max() / 2.0\n",
        "for i in range(confusion_mat.shape[0]):\n",
        "    for j in range(confusion_mat.shape[1]):\n",
        "        ax.text(j, i, format(confusion_mat[i, j], 'd'), ha=\"center\", va=\"center\", color=\"white\" if confusion_mat[i, j] > thresh else \"black\")\n",
        "\n",
        "# Set the plot title\n",
        "ax.set_title('Confusion Matrix')\n",
        "\n",
        "# Display the plot\n",
        "plt.show()\n",
        "\n",
        "fpr, tpr, _ = roc_curve(test_y,predicted_y)\n",
        "roc_auc = auc(fpr, tpr)\n",
        "\n",
        "# Plot the ROC curve\n",
        "plt.figure()\n",
        "plt.plot(fpr, tpr, color='g', lw=2, label='ROC curve (area = %0.6f)' % roc_auc)\n",
        "plt.plot([0, 1], [0, 1], color='navy', lw=2, linestyle='--')\n",
        "plt.xlim([0.0, 1.0])\n",
        "plt.ylim([0.0, 1.05])\n",
        "plt.xlabel('False Positive Rate')\n",
        "plt.ylabel('True Positive Rate')\n",
        "plt.title('Receiver operating characteristic')\n",
        "plt.legend(loc=\"lower right\")\n",
        "plt.show()"
      ],
      "metadata": {
        "id": "yc6wE1QrfE5b"
      },
      "execution_count": null,
      "outputs": []
    },
    {
      "cell_type": "markdown",
      "source": [
        "##**Ploting the graph of performance matrics**"
      ],
      "metadata": {
        "id": "OITlHiv0H6-w"
      }
    },
    {
      "cell_type": "code",
      "source": [
        "from sklearn.metrics import precision_recall_fscore_support, accuracy_score,precision_recall_curve\n",
        "precision, recall, f1_score, _ = precision_recall_fscore_support(test_y,predicted_y, average='binary')\n",
        "accuracy = accuracy_score(test_y,predicted_y)\n",
        "\n",
        "values = [accuracy, precision, recall, f1_score]\n",
        "labels = ['Accuracy', 'Precision', 'Recall', 'F1 score']\n",
        "\n",
        "# Plot the bar graph\n",
        "fig, ax = plt.subplots()\n",
        "rects = ax.bar(labels, values, color='g')\n",
        "\n",
        "# Add text labels to the bars\n",
        "for rect in rects:\n",
        "    height = rect.get_height()\n",
        "    ax.text(rect.get_x() + rect.get_width() / 2, height, round(height, 6), ha='center', va='bottom', fontsize=10)\n",
        "\n",
        "# Set the y-axis limit\n",
        "plt.ylim([0, 1.2])\n",
        "plt.title('Performance Metrics')\n",
        "\n",
        "# Display the plot\n",
        "plt.show()"
      ],
      "metadata": {
        "id": "f3AZ9RYvhGcc"
      },
      "execution_count": null,
      "outputs": []
    },
    {
      "cell_type": "markdown",
      "source": [
        "##**Observing the importance of features of Random Forest Classifier**"
      ],
      "metadata": {
        "id": "fz45I4fsERQb"
      }
    },
    {
      "cell_type": "code",
      "source": [
        "#checking the feature improtance in the model\n",
        "plt.figure(figsize=(10,8))\n",
        "features_count = dataset_x.shape[1]\n",
        "plt.barh(range(features_count), forest.feature_importances_, align='center')\n",
        "plt.yticks(np.arange(features_count),feature_names.drop(['Label','Domain']),fontsize=12)\n",
        "plt.xlabel(\"Feature importance\",fontsize=18)\n",
        "plt.ylabel(\"Feature\",fontsize=18)\n",
        "plt.show()"
      ],
      "metadata": {
        "id": "Qzxp96f4ENnA",
        "colab": {
          "base_uri": "https://localhost:8080/",
          "height": 706
        },
        "outputId": "955ffaca-bfb4-4a36-b9cd-93bb7b8f7dac"
      },
      "execution_count": null,
      "outputs": [
        {
          "output_type": "display_data",
          "data": {
            "text/plain": [
              "<Figure size 1000x800 with 1 Axes>"
            ],
            "image/png": "[encoded data removed]"
          },
          "metadata": {}
        }
      ]
    },
    {
      "cell_type": "markdown",
      "source": [
        "#**Training Decision Tree Classifier**"
      ],
      "metadata": {
        "id": "g0qqfL0VLZFE"
      }
    },
    {
      "cell_type": "code",
      "source": [
        "# Decision Tree model \n",
        "from sklearn.tree import DecisionTreeClassifier\n",
        "# instantiate the model \n",
        "tree = DecisionTreeClassifier(criterion='gini',max_depth=6,random_state=42)\n",
        "# fit the model \n",
        "tree.fit(dataset_x,dataset_y)"
      ],
      "metadata": {
        "id": "2fFpCgBsLpCv",
        "colab": {
          "base_uri": "https://localhost:8080/",
          "height": 74
        },
        "outputId": "d0b7088e-4b91-4250-9237-014a5a9e858e"
      },
      "execution_count": null,
      "outputs": [
        {
          "output_type": "execute_result",
          "data": {
            "text/plain": [
              "DecisionTreeClassifier(max_depth=6, random_state=42)"
            ],
            "text/html": [
              "<style>#sk-container-id-3 {color: black;background-color: white;}#sk-container-id-3 pre{padding: 0;}#sk-container-id-3 div.sk-toggleable {background-color: white;}#sk-container-id-3 label.sk-toggleable__label {cursor: pointer;display: block;width: 100%;margin-bottom: 0;padding: 0.3em;box-sizing: border-box;text-align: center;}#sk-container-id-3 label.sk-toggleable__label-arrow:before {content: \"▸\";float: left;margin-right: 0.25em;color: #696969;}#sk-container-id-3 label.sk-toggleable__label-arrow:hover:before {color: black;}#sk-container-id-3 div.sk-estimator:hover label.sk-toggleable__label-arrow:before {color: black;}#sk-container-id-3 div.sk-toggleable__content {max-height: 0;max-width: 0;overflow: hidden;text-align: left;background-color: #f0f8ff;}#sk-container-id-3 div.sk-toggleable__content pre {margin: 0.2em;color: black;border-radius: 0.25em;background-color: #f0f8ff;}#sk-container-id-3 input.sk-toggleable__control:checked~div.sk-toggleable__content {max-height: 200px;max-width: 100%;overflow: auto;}#sk-container-id-3 input.sk-toggleable__control:checked~label.sk-toggleable__label-arrow:before {content: \"▾\";}#sk-container-id-3 div.sk-estimator input.sk-toggleable__control:checked~label.sk-toggleable__label {background-color: #d4ebff;}#sk-container-id-3 div.sk-label input.sk-toggleable__control:checked~label.sk-toggleable__label {background-color: #d4ebff;}#sk-container-id-3 input.sk-hidden--visually {border: 0;clip: rect(1px 1px 1px 1px);clip: rect(1px, 1px, 1px, 1px);height: 1px;margin: -1px;overflow: hidden;padding: 0;position: absolute;width: 1px;}#sk-container-id-3 div.sk-estimator {font-family: monospace;background-color: #f0f8ff;border: 1px dotted black;border-radius: 0.25em;box-sizing: border-box;margin-bottom: 0.5em;}#sk-container-id-3 div.sk-estimator:hover {background-color: #d4ebff;}#sk-container-id-3 div.sk-parallel-item::after {content: \"\";width: 100%;border-bottom: 1px solid gray;flex-grow: 1;}#sk-container-id-3 div.sk-label:hover label.sk-toggleable__label {background-color: #d4ebff;}#sk-container-id-3 div.sk-serial::before {content: \"\";position: absolute;border-left: 1px solid gray;box-sizing: border-box;top: 0;bottom: 0;left: 50%;z-index: 0;}#sk-container-id-3 div.sk-serial {display: flex;flex-direction: column;align-items: center;background-color: white;padding-right: 0.2em;padding-left: 0.2em;position: relative;}#sk-container-id-3 div.sk-item {position: relative;z-index: 1;}#sk-container-id-3 div.sk-parallel {display: flex;align-items: stretch;justify-content: center;background-color: white;position: relative;}#sk-container-id-3 div.sk-item::before, #sk-container-id-3 div.sk-parallel-item::before {content: \"\";position: absolute;border-left: 1px solid gray;box-sizing: border-box;top: 0;bottom: 0;left: 50%;z-index: -1;}#sk-container-id-3 div.sk-parallel-item {display: flex;flex-direction: column;z-index: 1;position: relative;background-color: white;}#sk-container-id-3 div.sk-parallel-item:first-child::after {align-self: flex-end;width: 50%;}#sk-container-id-3 div.sk-parallel-item:last-child::after {align-self: flex-start;width: 50%;}#sk-container-id-3 div.sk-parallel-item:only-child::after {width: 0;}#sk-container-id-3 div.sk-dashed-wrapped {border: 1px dashed gray;margin: 0 0.4em 0.5em 0.4em;box-sizing: border-box;padding-bottom: 0.4em;background-color: white;}#sk-container-id-3 div.sk-label label {font-family: monospace;font-weight: bold;display: inline-block;line-height: 1.2em;}#sk-container-id-3 div.sk-label-container {text-align: center;}#sk-container-id-3 div.sk-container {/* jupyter's `normalize.less` sets `[hidden] { display: none; }` but bootstrap.min.css set `[hidden] { display: none !important; }` so we also need the `!important` here to be able to override the default hidden behavior on the sphinx rendered scikit-learn.org. See: https://github.com/scikit-learn/scikit-learn/issues/21755 */display: inline-block !important;position: relative;}#sk-container-id-3 div.sk-text-repr-fallback {display: none;}</style><div id=\"sk-container-id-3\" class=\"sk-top-container\"><div class=\"sk-text-repr-fallback\"><pre>DecisionTreeClassifier(max_depth=6, random_state=42)</pre><b>In a Jupyter environment, please rerun this cell to show the HTML representation or trust the notebook. <br />On GitHub, the HTML representation is unable to render, please try loading this page with nbviewer.org.</b></div><div class=\"sk-container\" hidden><div class=\"sk-item\"><div class=\"sk-estimator sk-toggleable\"><input class=\"sk-toggleable__control sk-hidden--visually\" id=\"sk-estimator-id-3\" type=\"checkbox\" checked><label for=\"sk-estimator-id-3\" class=\"sk-toggleable__label sk-toggleable__label-arrow\">DecisionTreeClassifier</label><div class=\"sk-toggleable__content\"><pre>DecisionTreeClassifier(max_depth=6, random_state=42)</pre></div></div></div></div></div>"
            ]
          },
          "metadata": {},
          "execution_count": 29
        }
      ]
    },
    {
      "cell_type": "markdown",
      "source": [
        "##**Finding out traning and testng accuracy of Decision Tree Classifier**"
      ],
      "metadata": {
        "id": "qM9yTY8gIbgz"
      }
    },
    {
      "cell_type": "code",
      "source": [
        "from sklearn.metrics import accuracy_score\n",
        "predicted_train_y= tree.predict(dataset_x)\n",
        "#computing the accuracy of the model performance\n",
        "train_data_acc= accuracy_score(dataset_y,predicted_train_y)\n",
        "print(\"Decision Tree: Accuracy on train Data: {:.3f}\".format(train_data_acc))\n",
        "print('--------------------------------------------')\n",
        "predicted_test_y= tree.predict(test_x)\n",
        "#computing the accuracy of the model performance\n",
        "test_data_acc= accuracy_score(test_y,predicted_test_y)\n",
        "print(\"Decision Tree: Accuracy on test Data: {:.3f}\".format(test_data_acc))"
      ],
      "metadata": {
        "id": "HXu7b6yYMCJL",
        "colab": {
          "base_uri": "https://localhost:8080/"
        },
        "outputId": "ce82bdca-b97b-4b74-9269-04e11ce6ddb6"
      },
      "execution_count": null,
      "outputs": [
        {
          "output_type": "stream",
          "name": "stdout",
          "text": [
            "Decision Tree: Accuracy on train Data: 0.973\n",
            "--------------------------------------------\n",
            "Decision Tree: Accuracy on test Data: 0.970\n"
          ]
        }
      ]
    },
    {
      "cell_type": "markdown",
      "source": [
        "##**Observing the importance of features of Decision Tree Classifier**"
      ],
      "metadata": {
        "id": "PyDiG10KIuwJ"
      }
    },
    {
      "cell_type": "code",
      "source": [
        "#checking the feature improtance in the model\n",
        "plt.figure(figsize=(9,7))\n",
        "features_count = dataset_x.shape[1]\n",
        "plt.barh(range(features_count), tree.feature_importances_, align='center')\n",
        "plt.yticks(np.arange(features_count),feature_names.drop(['Label','Domain']))\n",
        "plt.xlabel(\"Feature importance\")\n",
        "plt.ylabel(\"Feature\")\n",
        "plt.show()"
      ],
      "metadata": {
        "id": "u-k9HEaVMdX3"
      },
      "execution_count": null,
      "outputs": []
    },
    {
      "cell_type": "markdown",
      "source": [
        "#**Trying XGBoost Classifier**"
      ],
      "metadata": {
        "id": "T6LyF558NIFw"
      }
    },
    {
      "cell_type": "code",
      "source": [
        "#XGBoost Classification model\n",
        "from xgboost import XGBClassifier\n",
        "# instantiate the model\n",
        "xgb = XGBClassifier(learning_rate=0.04,max_depth=None,n_estimators=250,n_jobs=-1)\n",
        "#fit the model\n",
        "xgb.fit(dataset_x,dataset_y)"
      ],
      "metadata": {
        "id": "db9J6gcRNMsO",
        "colab": {
          "base_uri": "https://localhost:8080/",
          "height": 248
        },
        "outputId": "5799c51b-a879-477b-ae73-4c9c6088d83f"
      },
      "execution_count": null,
      "outputs": [
        {
          "output_type": "execute_result",
          "data": {
            "text/plain": [
              "XGBClassifier(base_score=None, booster=None, callbacks=None,\n",
              "              colsample_bylevel=None, colsample_bynode=None,\n",
              "              colsample_bytree=None, early_stopping_rounds=None,\n",
              "              enable_categorical=False, eval_metric=None, feature_types=None,\n",
              "              gamma=None, gpu_id=None, grow_policy=None, importance_type=None,\n",
              "              interaction_constraints=None, learning_rate=0.04, max_bin=None,\n",
              "              max_cat_threshold=None, max_cat_to_onehot=None,\n",
              "              max_delta_step=None, max_depth=None, max_leaves=None,\n",
              "              min_child_weight=None, missing=nan, monotone_constraints=None,\n",
              "              n_estimators=250, n_jobs=-1, num_parallel_tree=None,\n",
              "              predictor=None, random_state=None, ...)"
            ],
            "text/html": [
              "<style>#sk-container-id-4 {color: black;background-color: white;}#sk-container-id-4 pre{padding: 0;}#sk-container-id-4 div.sk-toggleable {background-color: white;}#sk-container-id-4 label.sk-toggleable__label {cursor: pointer;display: block;width: 100%;margin-bottom: 0;padding: 0.3em;box-sizing: border-box;text-align: center;}#sk-container-id-4 label.sk-toggleable__label-arrow:before {content: \"▸\";float: left;margin-right: 0.25em;color: #696969;}#sk-container-id-4 label.sk-toggleable__label-arrow:hover:before {color: black;}#sk-container-id-4 div.sk-estimator:hover label.sk-toggleable__label-arrow:before {color: black;}#sk-container-id-4 div.sk-toggleable__content {max-height: 0;max-width: 0;overflow: hidden;text-align: left;background-color: #f0f8ff;}#sk-container-id-4 div.sk-toggleable__content pre {margin: 0.2em;color: black;border-radius: 0.25em;background-color: #f0f8ff;}#sk-container-id-4 input.sk-toggleable__control:checked~div.sk-toggleable__content {max-height: 200px;max-width: 100%;overflow: auto;}#sk-container-id-4 input.sk-toggleable__control:checked~label.sk-toggleable__label-arrow:before {content: \"▾\";}#sk-container-id-4 div.sk-estimator input.sk-toggleable__control:checked~label.sk-toggleable__label {background-color: #d4ebff;}#sk-container-id-4 div.sk-label input.sk-toggleable__control:checked~label.sk-toggleable__label {background-color: #d4ebff;}#sk-container-id-4 input.sk-hidden--visually {border: 0;clip: rect(1px 1px 1px 1px);clip: rect(1px, 1px, 1px, 1px);height: 1px;margin: -1px;overflow: hidden;padding: 0;position: absolute;width: 1px;}#sk-container-id-4 div.sk-estimator {font-family: monospace;background-color: #f0f8ff;border: 1px dotted black;border-radius: 0.25em;box-sizing: border-box;margin-bottom: 0.5em;}#sk-container-id-4 div.sk-estimator:hover {background-color: #d4ebff;}#sk-container-id-4 div.sk-parallel-item::after {content: \"\";width: 100%;border-bottom: 1px solid gray;flex-grow: 1;}#sk-container-id-4 div.sk-label:hover label.sk-toggleable__label {background-color: #d4ebff;}#sk-container-id-4 div.sk-serial::before {content: \"\";position: absolute;border-left: 1px solid gray;box-sizing: border-box;top: 0;bottom: 0;left: 50%;z-index: 0;}#sk-container-id-4 div.sk-serial {display: flex;flex-direction: column;align-items: center;background-color: white;padding-right: 0.2em;padding-left: 0.2em;position: relative;}#sk-container-id-4 div.sk-item {position: relative;z-index: 1;}#sk-container-id-4 div.sk-parallel {display: flex;align-items: stretch;justify-content: center;background-color: white;position: relative;}#sk-container-id-4 div.sk-item::before, #sk-container-id-4 div.sk-parallel-item::before {content: \"\";position: absolute;border-left: 1px solid gray;box-sizing: border-box;top: 0;bottom: 0;left: 50%;z-index: -1;}#sk-container-id-4 div.sk-parallel-item {display: flex;flex-direction: column;z-index: 1;position: relative;background-color: white;}#sk-container-id-4 div.sk-parallel-item:first-child::after {align-self: flex-end;width: 50%;}#sk-container-id-4 div.sk-parallel-item:last-child::after {align-self: flex-start;width: 50%;}#sk-container-id-4 div.sk-parallel-item:only-child::after {width: 0;}#sk-container-id-4 div.sk-dashed-wrapped {border: 1px dashed gray;margin: 0 0.4em 0.5em 0.4em;box-sizing: border-box;padding-bottom: 0.4em;background-color: white;}#sk-container-id-4 div.sk-label label {font-family: monospace;font-weight: bold;display: inline-block;line-height: 1.2em;}#sk-container-id-4 div.sk-label-container {text-align: center;}#sk-container-id-4 div.sk-container {/* jupyter's `normalize.less` sets `[hidden] { display: none; }` but bootstrap.min.css set `[hidden] { display: none !important; }` so we also need the `!important` here to be able to override the default hidden behavior on the sphinx rendered scikit-learn.org. See: https://github.com/scikit-learn/scikit-learn/issues/21755 */display: inline-block !important;position: relative;}#sk-container-id-4 div.sk-text-repr-fallback {display: none;}</style><div id=\"sk-container-id-4\" class=\"sk-top-container\"><div class=\"sk-text-repr-fallback\"><pre>XGBClassifier(base_score=None, booster=None, callbacks=None,\n",
              "              colsample_bylevel=None, colsample_bynode=None,\n",
              "              colsample_bytree=None, early_stopping_rounds=None,\n",
              "              enable_categorical=False, eval_metric=None, feature_types=None,\n",
              "              gamma=None, gpu_id=None, grow_policy=None, importance_type=None,\n",
              "              interaction_constraints=None, learning_rate=0.04, max_bin=None,\n",
              "              max_cat_threshold=None, max_cat_to_onehot=None,\n",
              "              max_delta_step=None, max_depth=None, max_leaves=None,\n",
              "              min_child_weight=None, missing=nan, monotone_constraints=None,\n",
              "              n_estimators=250, n_jobs=-1, num_parallel_tree=None,\n",
              "              predictor=None, random_state=None, ...)</pre><b>In a Jupyter environment, please rerun this cell to show the HTML representation or trust the notebook. <br />On GitHub, the HTML representation is unable to render, please try loading this page with nbviewer.org.</b></div><div class=\"sk-container\" hidden><div class=\"sk-item\"><div class=\"sk-estimator sk-toggleable\"><input class=\"sk-toggleable__control sk-hidden--visually\" id=\"sk-estimator-id-4\" type=\"checkbox\" checked><label for=\"sk-estimator-id-4\" class=\"sk-toggleable__label sk-toggleable__label-arrow\">XGBClassifier</label><div class=\"sk-toggleable__content\"><pre>XGBClassifier(base_score=None, booster=None, callbacks=None,\n",
              "              colsample_bylevel=None, colsample_bynode=None,\n",
              "              colsample_bytree=None, early_stopping_rounds=None,\n",
              "              enable_categorical=False, eval_metric=None, feature_types=None,\n",
              "              gamma=None, gpu_id=None, grow_policy=None, importance_type=None,\n",
              "              interaction_constraints=None, learning_rate=0.04, max_bin=None,\n",
              "              max_cat_threshold=None, max_cat_to_onehot=None,\n",
              "              max_delta_step=None, max_depth=None, max_leaves=None,\n",
              "              min_child_weight=None, missing=nan, monotone_constraints=None,\n",
              "              n_estimators=250, n_jobs=-1, num_parallel_tree=None,\n",
              "              predictor=None, random_state=None, ...)</pre></div></div></div></div></div>"
            ]
          },
          "metadata": {},
          "execution_count": 31
        }
      ]
    },
    {
      "cell_type": "code",
      "source": [
        "from sklearn.metrics import accuracy_score\n",
        "predicted_train_y= xgb.predict(dataset_x)\n",
        "#computing the accuracy of the model performance\n",
        "train_data_acc= accuracy_score(dataset_y,predicted_train_y)\n",
        "print(\"XGB Classifier: Accuracy on train Data: {:.3f}\".format(train_data_acc))\n",
        "print('--------------------------------------------')\n",
        "predicted_test_y= xgb.predict(test_x)\n",
        "#computing the accuracy of the model performance\n",
        "test_data_acc= accuracy_score(test_y,predicted_test_y)\n",
        "print(\"XGB Classifier: Accuracy on test Data: {:.3f}\".format(test_data_acc))"
      ],
      "metadata": {
        "id": "9fyDNx5zNiyr",
        "colab": {
          "base_uri": "https://localhost:8080/"
        },
        "outputId": "140bed17-a3be-46ea-fe6b-24bfedd7e8f6"
      },
      "execution_count": null,
      "outputs": [
        {
          "output_type": "stream",
          "name": "stdout",
          "text": [
            "XGB Classifier: Accuracy on train Data: 0.989\n",
            "--------------------------------------------\n",
            "XGB Classifier: Accuracy on test Data: 0.975\n"
          ]
        }
      ]
    },
    {
      "cell_type": "code",
      "source": [
        "#checking the feature improtance in the model\n",
        "plt.figure(figsize=(9,7))\n",
        "features_count = dataset_x.shape[1]\n",
        "plt.barh(range(features_count), xgb.feature_importances_, align='center')\n",
        "plt.yticks(np.arange(features_count),feature_names.drop(['Label','Domain']))\n",
        "plt.xlabel(\"Feature importance\")\n",
        "plt.ylabel(\"Feature\")\n",
        "plt.show()"
      ],
      "metadata": {
        "id": "VPKdUpcZNw4Y"
      },
      "execution_count": null,
      "outputs": []
    },
    {
      "cell_type": "markdown",
      "source": [
        "##**Trying Multilayer Perceptrons(Deep Learning)**"
      ],
      "metadata": {
        "id": "jJsCGx6UPM_4"
      }
    },
    {
      "cell_type": "code",
      "source": [
        "# Multilayer Perceptrons model\n",
        "from sklearn.neural_network import MLPClassifier\n",
        "# instantiate the model\n",
        "mlp=MLPClassifier(alpha=0.001,learning_rate='adaptive',random_state=42,hidden_layer_sizes=([100,100,100])) \n",
        "# fit the model \n",
        "mlp.fit(dataset_x,dataset_y)"
      ],
      "metadata": {
        "id": "vLV1hnOiPUSu",
        "colab": {
          "base_uri": "https://localhost:8080/",
          "height": 92
        },
        "outputId": "6c66160d-f346-4c61-a3de-bf05af078a1f"
      },
      "execution_count": null,
      "outputs": [
        {
          "output_type": "execute_result",
          "data": {
            "text/plain": [
              "MLPClassifier(alpha=0.001, hidden_layer_sizes=[100, 100, 100],\n",
              "              learning_rate='adaptive', random_state=42)"
            ],
            "text/html": [
              "<style>#sk-container-id-3 {color: black;background-color: white;}#sk-container-id-3 pre{padding: 0;}#sk-container-id-3 div.sk-toggleable {background-color: white;}#sk-container-id-3 label.sk-toggleable__label {cursor: pointer;display: block;width: 100%;margin-bottom: 0;padding: 0.3em;box-sizing: border-box;text-align: center;}#sk-container-id-3 label.sk-toggleable__label-arrow:before {content: \"▸\";float: left;margin-right: 0.25em;color: #696969;}#sk-container-id-3 label.sk-toggleable__label-arrow:hover:before {color: black;}#sk-container-id-3 div.sk-estimator:hover label.sk-toggleable__label-arrow:before {color: black;}#sk-container-id-3 div.sk-toggleable__content {max-height: 0;max-width: 0;overflow: hidden;text-align: left;background-color: #f0f8ff;}#sk-container-id-3 div.sk-toggleable__content pre {margin: 0.2em;color: black;border-radius: 0.25em;background-color: #f0f8ff;}#sk-container-id-3 input.sk-toggleable__control:checked~div.sk-toggleable__content {max-height: 200px;max-width: 100%;overflow: auto;}#sk-container-id-3 input.sk-toggleable__control:checked~label.sk-toggleable__label-arrow:before {content: \"▾\";}#sk-container-id-3 div.sk-estimator input.sk-toggleable__control:checked~label.sk-toggleable__label {background-color: #d4ebff;}#sk-container-id-3 div.sk-label input.sk-toggleable__control:checked~label.sk-toggleable__label {background-color: #d4ebff;}#sk-container-id-3 input.sk-hidden--visually {border: 0;clip: rect(1px 1px 1px 1px);clip: rect(1px, 1px, 1px, 1px);height: 1px;margin: -1px;overflow: hidden;padding: 0;position: absolute;width: 1px;}#sk-container-id-3 div.sk-estimator {font-family: monospace;background-color: #f0f8ff;border: 1px dotted black;border-radius: 0.25em;box-sizing: border-box;margin-bottom: 0.5em;}#sk-container-id-3 div.sk-estimator:hover {background-color: #d4ebff;}#sk-container-id-3 div.sk-parallel-item::after {content: \"\";width: 100%;border-bottom: 1px solid gray;flex-grow: 1;}#sk-container-id-3 div.sk-label:hover label.sk-toggleable__label {background-color: #d4ebff;}#sk-container-id-3 div.sk-serial::before {content: \"\";position: absolute;border-left: 1px solid gray;box-sizing: border-box;top: 0;bottom: 0;left: 50%;z-index: 0;}#sk-container-id-3 div.sk-serial {display: flex;flex-direction: column;align-items: center;background-color: white;padding-right: 0.2em;padding-left: 0.2em;position: relative;}#sk-container-id-3 div.sk-item {position: relative;z-index: 1;}#sk-container-id-3 div.sk-parallel {display: flex;align-items: stretch;justify-content: center;background-color: white;position: relative;}#sk-container-id-3 div.sk-item::before, #sk-container-id-3 div.sk-parallel-item::before {content: \"\";position: absolute;border-left: 1px solid gray;box-sizing: border-box;top: 0;bottom: 0;left: 50%;z-index: -1;}#sk-container-id-3 div.sk-parallel-item {display: flex;flex-direction: column;z-index: 1;position: relative;background-color: white;}#sk-container-id-3 div.sk-parallel-item:first-child::after {align-self: flex-end;width: 50%;}#sk-container-id-3 div.sk-parallel-item:last-child::after {align-self: flex-start;width: 50%;}#sk-container-id-3 div.sk-parallel-item:only-child::after {width: 0;}#sk-container-id-3 div.sk-dashed-wrapped {border: 1px dashed gray;margin: 0 0.4em 0.5em 0.4em;box-sizing: border-box;padding-bottom: 0.4em;background-color: white;}#sk-container-id-3 div.sk-label label {font-family: monospace;font-weight: bold;display: inline-block;line-height: 1.2em;}#sk-container-id-3 div.sk-label-container {text-align: center;}#sk-container-id-3 div.sk-container {/* jupyter's `normalize.less` sets `[hidden] { display: none; }` but bootstrap.min.css set `[hidden] { display: none !important; }` so we also need the `!important` here to be able to override the default hidden behavior on the sphinx rendered scikit-learn.org. See: https://github.com/scikit-learn/scikit-learn/issues/21755 */display: inline-block !important;position: relative;}#sk-container-id-3 div.sk-text-repr-fallback {display: none;}</style><div id=\"sk-container-id-3\" class=\"sk-top-container\"><div class=\"sk-text-repr-fallback\"><pre>MLPClassifier(alpha=0.001, hidden_layer_sizes=[100, 100, 100],\n",
              "              learning_rate=&#x27;adaptive&#x27;, random_state=42)</pre><b>In a Jupyter environment, please rerun this cell to show the HTML representation or trust the notebook. <br />On GitHub, the HTML representation is unable to render, please try loading this page with nbviewer.org.</b></div><div class=\"sk-container\" hidden><div class=\"sk-item\"><div class=\"sk-estimator sk-toggleable\"><input class=\"sk-toggleable__control sk-hidden--visually\" id=\"sk-estimator-id-3\" type=\"checkbox\" checked><label for=\"sk-estimator-id-3\" class=\"sk-toggleable__label sk-toggleable__label-arrow\">MLPClassifier</label><div class=\"sk-toggleable__content\"><pre>MLPClassifier(alpha=0.001, hidden_layer_sizes=[100, 100, 100],\n",
              "              learning_rate=&#x27;adaptive&#x27;, random_state=42)</pre></div></div></div></div></div>"
            ]
          },
          "metadata": {},
          "execution_count": 73
        }
      ]
    },
    {
      "cell_type": "code",
      "source": [
        "from sklearn.metrics import accuracy_score\n",
        "predicted_train_y= mlp.predict(dataset_x)\n",
        "#computing the accuracy of the model performance\n",
        "train_data_acc= accuracy_score(dataset_y,predicted_train_y)\n",
        "print(\"MLP Classifier: Accuracy on train Data: {:.3f}\".format(train_data_acc))\n",
        "print('--------------------------------------------')\n",
        "predicted_test_y= mlp.predict(test_x)\n",
        "#computing the accuracy of the model performance\n",
        "test_data_acc= accuracy_score(test_y,predicted_test_y)\n",
        "print(\"MLP Classifier: Accuracy on test Data: {:.3f}\".format(test_data_acc))"
      ],
      "metadata": {
        "id": "4I1tpRIYPdrS",
        "colab": {
          "base_uri": "https://localhost:8080/"
        },
        "outputId": "743fbf34-9d3e-4baf-b45d-d28a82806747"
      },
      "execution_count": null,
      "outputs": [
        {
          "output_type": "stream",
          "name": "stdout",
          "text": [
            "MLP Classifier: Accuracy on train Data: 0.972\n",
            "--------------------------------------------\n",
            "MLP Classifier: Accuracy on test Data: 0.965\n"
          ]
        }
      ]
    },
    {
      "cell_type": "code",
      "source": [
        "#checking the feature improtance in the model\n",
        "plt.figure(figsize=(10,8))\n",
        "features_count = dataset_x.shape[1]\n",
        "hidden_layer_weights = mlp.coefs_[0]\n",
        "importance_scores = np.abs(hidden_layer_weights).sum(axis=1)\n",
        "plt.barh(range(features_count), importance_scores, align='center')\n",
        "plt.yticks(np.arange(features_count),feature_names.drop(['Label','Domain']),fontsize=12)\n",
        "plt.xlabel(\"Feature importance\",fontsize=18)\n",
        "plt.ylabel(\"Feature\",fontsize=18)\n",
        "plt.show()\n",
        "plt.savefig('x.png')"
      ],
      "metadata": {
        "id": "f-h7EG_dPNV5"
      },
      "execution_count": null,
      "outputs": []
    },
    {
      "cell_type": "code",
      "source": [],
      "metadata": {
        "id": "vEpgRUqTba2X"
      },
      "execution_count": null,
      "outputs": []
    },
    {
      "cell_type": "markdown",
      "source": [
        "#**Trying Logistic Regression**"
      ],
      "metadata": {
        "id": "Ag9pUzHanOrm"
      }
    },
    {
      "cell_type": "code",
      "source": [
        "# Logistic Regression Model\n",
        "from sklearn.linear_model import LogisticRegression\n",
        "# instantiate the model\n",
        "model = LogisticRegression(random_state=42,solver='newton-cg')\n",
        "# fit the model \n",
        "model.fit(dataset_x,dataset_y)"
      ],
      "metadata": {
        "id": "p3evEmTAnVo_",
        "colab": {
          "base_uri": "https://localhost:8080/",
          "height": 74
        },
        "outputId": "515ba3c3-5a44-408a-b53e-faa27d809845"
      },
      "execution_count": null,
      "outputs": [
        {
          "output_type": "execute_result",
          "data": {
            "text/plain": [
              "LogisticRegression(random_state=42, solver='newton-cg')"
            ],
            "text/html": [
              "<style>#sk-container-id-21 {color: black;background-color: white;}#sk-container-id-21 pre{padding: 0;}#sk-container-id-21 div.sk-toggleable {background-color: white;}#sk-container-id-21 label.sk-toggleable__label {cursor: pointer;display: block;width: 100%;margin-bottom: 0;padding: 0.3em;box-sizing: border-box;text-align: center;}#sk-container-id-21 label.sk-toggleable__label-arrow:before {content: \"▸\";float: left;margin-right: 0.25em;color: #696969;}#sk-container-id-21 label.sk-toggleable__label-arrow:hover:before {color: black;}#sk-container-id-21 div.sk-estimator:hover label.sk-toggleable__label-arrow:before {color: black;}#sk-container-id-21 div.sk-toggleable__content {max-height: 0;max-width: 0;overflow: hidden;text-align: left;background-color: #f0f8ff;}#sk-container-id-21 div.sk-toggleable__content pre {margin: 0.2em;color: black;border-radius: 0.25em;background-color: #f0f8ff;}#sk-container-id-21 input.sk-toggleable__control:checked~div.sk-toggleable__content {max-height: 200px;max-width: 100%;overflow: auto;}#sk-container-id-21 input.sk-toggleable__control:checked~label.sk-toggleable__label-arrow:before {content: \"▾\";}#sk-container-id-21 div.sk-estimator input.sk-toggleable__control:checked~label.sk-toggleable__label {background-color: #d4ebff;}#sk-container-id-21 div.sk-label input.sk-toggleable__control:checked~label.sk-toggleable__label {background-color: #d4ebff;}#sk-container-id-21 input.sk-hidden--visually {border: 0;clip: rect(1px 1px 1px 1px);clip: rect(1px, 1px, 1px, 1px);height: 1px;margin: -1px;overflow: hidden;padding: 0;position: absolute;width: 1px;}#sk-container-id-21 div.sk-estimator {font-family: monospace;background-color: #f0f8ff;border: 1px dotted black;border-radius: 0.25em;box-sizing: border-box;margin-bottom: 0.5em;}#sk-container-id-21 div.sk-estimator:hover {background-color: #d4ebff;}#sk-container-id-21 div.sk-parallel-item::after {content: \"\";width: 100%;border-bottom: 1px solid gray;flex-grow: 1;}#sk-container-id-21 div.sk-label:hover label.sk-toggleable__label {background-color: #d4ebff;}#sk-container-id-21 div.sk-serial::before {content: \"\";position: absolute;border-left: 1px solid gray;box-sizing: border-box;top: 0;bottom: 0;left: 50%;z-index: 0;}#sk-container-id-21 div.sk-serial {display: flex;flex-direction: column;align-items: center;background-color: white;padding-right: 0.2em;padding-left: 0.2em;position: relative;}#sk-container-id-21 div.sk-item {position: relative;z-index: 1;}#sk-container-id-21 div.sk-parallel {display: flex;align-items: stretch;justify-content: center;background-color: white;position: relative;}#sk-container-id-21 div.sk-item::before, #sk-container-id-21 div.sk-parallel-item::before {content: \"\";position: absolute;border-left: 1px solid gray;box-sizing: border-box;top: 0;bottom: 0;left: 50%;z-index: -1;}#sk-container-id-21 div.sk-parallel-item {display: flex;flex-direction: column;z-index: 1;position: relative;background-color: white;}#sk-container-id-21 div.sk-parallel-item:first-child::after {align-self: flex-end;width: 50%;}#sk-container-id-21 div.sk-parallel-item:last-child::after {align-self: flex-start;width: 50%;}#sk-container-id-21 div.sk-parallel-item:only-child::after {width: 0;}#sk-container-id-21 div.sk-dashed-wrapped {border: 1px dashed gray;margin: 0 0.4em 0.5em 0.4em;box-sizing: border-box;padding-bottom: 0.4em;background-color: white;}#sk-container-id-21 div.sk-label label {font-family: monospace;font-weight: bold;display: inline-block;line-height: 1.2em;}#sk-container-id-21 div.sk-label-container {text-align: center;}#sk-container-id-21 div.sk-container {/* jupyter's `normalize.less` sets `[hidden] { display: none; }` but bootstrap.min.css set `[hidden] { display: none !important; }` so we also need the `!important` here to be able to override the default hidden behavior on the sphinx rendered scikit-learn.org. See: https://github.com/scikit-learn/scikit-learn/issues/21755 */display: inline-block !important;position: relative;}#sk-container-id-21 div.sk-text-repr-fallback {display: none;}</style><div id=\"sk-container-id-21\" class=\"sk-top-container\"><div class=\"sk-text-repr-fallback\"><pre>LogisticRegression(random_state=42, solver=&#x27;newton-cg&#x27;)</pre><b>In a Jupyter environment, please rerun this cell to show the HTML representation or trust the notebook. <br />On GitHub, the HTML representation is unable to render, please try loading this page with nbviewer.org.</b></div><div class=\"sk-container\" hidden><div class=\"sk-item\"><div class=\"sk-estimator sk-toggleable\"><input class=\"sk-toggleable__control sk-hidden--visually\" id=\"sk-estimator-id-21\" type=\"checkbox\" checked><label for=\"sk-estimator-id-21\" class=\"sk-toggleable__label sk-toggleable__label-arrow\">LogisticRegression</label><div class=\"sk-toggleable__content\"><pre>LogisticRegression(random_state=42, solver=&#x27;newton-cg&#x27;)</pre></div></div></div></div></div>"
            ]
          },
          "metadata": {},
          "execution_count": 69
        }
      ]
    },
    {
      "cell_type": "code",
      "source": [
        "from sklearn.metrics import accuracy_score\n",
        "predicted_train_y= model.predict(dataset_x)\n",
        "#computing the accuracy of the model performance\n",
        "train_data_acc= accuracy_score(dataset_y,predicted_train_y)\n",
        "print(\"Logistic Regression: Accuracy on train Data: {:.3f}\".format(train_data_acc))\n",
        "print('--------------------------------------------')\n",
        "predicted_test_y= model.predict(test_x)\n",
        "#computing the accuracy of the model performance\n",
        "test_data_acc= accuracy_score(test_y,predicted_test_y)\n",
        "print(\"Logistic Regression: Accuracy on test Data: {:.3f}\".format(test_data_acc))"
      ],
      "metadata": {
        "id": "fTsckuxIpJJL",
        "colab": {
          "base_uri": "https://localhost:8080/"
        },
        "outputId": "f777cfe6-ee01-4741-cc21-53f8ccca1dff"
      },
      "execution_count": null,
      "outputs": [
        {
          "output_type": "stream",
          "name": "stdout",
          "text": [
            "Logistic Regression: Accuracy on train Data: 0.970\n",
            "--------------------------------------------\n",
            "Logistic Regression: Accuracy on test Data: 0.968\n"
          ]
        }
      ]
    },
    {
      "cell_type": "code",
      "source": [
        "# model.coef_[0]"
      ],
      "metadata": {
        "id": "IEBVBbeFqupC"
      },
      "execution_count": null,
      "outputs": []
    },
    {
      "cell_type": "code",
      "source": [
        "#checking the feature improtance in the model\n",
        "plt.figure(figsize=(9,7))\n",
        "features_count = dataset_x.shape[1]\n",
        "plt.barh(range(features_count), abs(model.coef_[0]), align='center')\n",
        "plt.yticks(np.arange(features_count),feature_names.drop(['Label','Domain']))\n",
        "plt.xlabel(\"Feature importance\")\n",
        "plt.ylabel(\"Feature\")\n",
        "plt.show()"
      ],
      "metadata": {
        "id": "pSzayR3cpcdA"
      },
      "execution_count": null,
      "outputs": []
    },
    {
      "cell_type": "code",
      "source": [
        "from sklearn.svm import SVC\n",
        "from sklearn.metrics import accuracy_score\n",
        "model = SVC()\n",
        "model.fit(dataset_x,dataset_y)\n",
        "from sklearn.metrics import accuracy_score\n",
        "predicted_train_y= model.predict(dataset_x)\n",
        "#computing the accuracy of the model performance\n",
        "train_data_acc= accuracy_score(dataset_y,predicted_train_y)\n",
        "print(\"Logistic Regression: Accuracy on train Data: {:.3f}\".format(train_data_acc))\n",
        "print('--------------------------------------------')\n",
        "predicted_test_y= model.predict(test_x)\n",
        "#computing the accuracy of the model performance\n",
        "test_data_acc= accuracy_score(test_y,predicted_test_y)\n",
        "print(\"Logistic Regression: Accuracy on test Data: {:.3f}\".format(test_data_acc))\n"
      ],
      "metadata": {
        "id": "8g6D7JOrIVRh",
        "colab": {
          "base_uri": "https://localhost:8080/"
        },
        "outputId": "bda1b772-6b5a-4bc9-e5ef-57df925bf693"
      },
      "execution_count": null,
      "outputs": [
        {
          "output_type": "stream",
          "name": "stdout",
          "text": [
            "Logistic Regression: Accuracy on train Data: 0.951\n",
            "--------------------------------------------\n",
            "Logistic Regression: Accuracy on test Data: 0.941\n"
          ]
        }
      ]
    }
  ]
}